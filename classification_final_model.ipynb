{
 "cells": [
  {
   "cell_type": "markdown",
   "id": "605146b0",
   "metadata": {},
   "source": [
    "# Heart Disease Classification"
   ]
  },
  {
   "cell_type": "code",
   "execution_count": 2,
   "id": "952ffd81",
   "metadata": {},
   "outputs": [],
   "source": [
    "# munging imports\n",
    "import pandas as pd\n",
    "import numpy as np\n",
    "\n",
    "#visualization imports\n",
    "import matplotlib.pyplot as plt\n",
    "import seaborn as sns\n",
    "\n",
    "%matplotlib inline\n",
    "\n",
    "# modeling imports \n",
    "from sklearn.linear_model import LogisticRegression\n",
    "from sklearn.model_selection import (train_test_split, cross_val_score, GridSearchCV,\n",
    "                                     StratifiedKFold)\n",
    "from sklearn.metrics import (precision_score, recall_score, \n",
    "                             accuracy_score, confusion_matrix, f1_score, fbeta_score, \n",
    "                             brier_score_loss, make_scorer, roc_curve, roc_auc_score, \n",
    "                             precision_recall_curve, auc)\n",
    "from sklearn.preprocessing import StandardScaler, OneHotEncoder\n",
    "from sklearn.pipeline import Pipeline\n",
    "from sklearn.compose import ColumnTransformer\n",
    "from imblearn.over_sampling import SMOTE\n",
    "from sklearn.impute import SimpleImputer\n",
    "import imblearn.over_sampling"
   ]
  },
  {
   "cell_type": "code",
   "execution_count": 3,
   "id": "9e4c2041",
   "metadata": {},
   "outputs": [
    {
     "data": {
      "text/html": [
       "<div>\n",
       "<style scoped>\n",
       "    .dataframe tbody tr th:only-of-type {\n",
       "        vertical-align: middle;\n",
       "    }\n",
       "\n",
       "    .dataframe tbody tr th {\n",
       "        vertical-align: top;\n",
       "    }\n",
       "\n",
       "    .dataframe thead th {\n",
       "        text-align: right;\n",
       "    }\n",
       "</style>\n",
       "<table border=\"1\" class=\"dataframe\">\n",
       "  <thead>\n",
       "    <tr style=\"text-align: right;\">\n",
       "      <th></th>\n",
       "      <th>HeartDiseaseorAttack</th>\n",
       "      <th>HighBP</th>\n",
       "      <th>HighChol</th>\n",
       "      <th>CholCheck</th>\n",
       "      <th>BMI</th>\n",
       "      <th>Smoker</th>\n",
       "      <th>Stroke</th>\n",
       "      <th>Diabetes</th>\n",
       "      <th>PhysActivity</th>\n",
       "      <th>Fruits</th>\n",
       "      <th>...</th>\n",
       "      <th>AnyHealthcare</th>\n",
       "      <th>NoDocbcCost</th>\n",
       "      <th>GenHlth</th>\n",
       "      <th>MentHlth</th>\n",
       "      <th>PhysHlth</th>\n",
       "      <th>DiffWalk</th>\n",
       "      <th>Sex</th>\n",
       "      <th>Age</th>\n",
       "      <th>Education</th>\n",
       "      <th>Income</th>\n",
       "    </tr>\n",
       "  </thead>\n",
       "  <tbody>\n",
       "    <tr>\n",
       "      <th>0</th>\n",
       "      <td>0.0</td>\n",
       "      <td>1.0</td>\n",
       "      <td>1.0</td>\n",
       "      <td>1.0</td>\n",
       "      <td>40.0</td>\n",
       "      <td>1.0</td>\n",
       "      <td>0.0</td>\n",
       "      <td>0.0</td>\n",
       "      <td>0.0</td>\n",
       "      <td>0.0</td>\n",
       "      <td>...</td>\n",
       "      <td>1.0</td>\n",
       "      <td>0.0</td>\n",
       "      <td>5.0</td>\n",
       "      <td>18.0</td>\n",
       "      <td>15.0</td>\n",
       "      <td>1.0</td>\n",
       "      <td>0.0</td>\n",
       "      <td>9.0</td>\n",
       "      <td>4.0</td>\n",
       "      <td>3.0</td>\n",
       "    </tr>\n",
       "    <tr>\n",
       "      <th>1</th>\n",
       "      <td>0.0</td>\n",
       "      <td>0.0</td>\n",
       "      <td>0.0</td>\n",
       "      <td>0.0</td>\n",
       "      <td>25.0</td>\n",
       "      <td>1.0</td>\n",
       "      <td>0.0</td>\n",
       "      <td>0.0</td>\n",
       "      <td>1.0</td>\n",
       "      <td>0.0</td>\n",
       "      <td>...</td>\n",
       "      <td>0.0</td>\n",
       "      <td>1.0</td>\n",
       "      <td>3.0</td>\n",
       "      <td>0.0</td>\n",
       "      <td>0.0</td>\n",
       "      <td>0.0</td>\n",
       "      <td>0.0</td>\n",
       "      <td>7.0</td>\n",
       "      <td>6.0</td>\n",
       "      <td>1.0</td>\n",
       "    </tr>\n",
       "    <tr>\n",
       "      <th>2</th>\n",
       "      <td>0.0</td>\n",
       "      <td>1.0</td>\n",
       "      <td>1.0</td>\n",
       "      <td>1.0</td>\n",
       "      <td>28.0</td>\n",
       "      <td>0.0</td>\n",
       "      <td>0.0</td>\n",
       "      <td>0.0</td>\n",
       "      <td>0.0</td>\n",
       "      <td>1.0</td>\n",
       "      <td>...</td>\n",
       "      <td>1.0</td>\n",
       "      <td>1.0</td>\n",
       "      <td>5.0</td>\n",
       "      <td>30.0</td>\n",
       "      <td>30.0</td>\n",
       "      <td>1.0</td>\n",
       "      <td>0.0</td>\n",
       "      <td>9.0</td>\n",
       "      <td>4.0</td>\n",
       "      <td>8.0</td>\n",
       "    </tr>\n",
       "    <tr>\n",
       "      <th>3</th>\n",
       "      <td>0.0</td>\n",
       "      <td>1.0</td>\n",
       "      <td>0.0</td>\n",
       "      <td>1.0</td>\n",
       "      <td>27.0</td>\n",
       "      <td>0.0</td>\n",
       "      <td>0.0</td>\n",
       "      <td>0.0</td>\n",
       "      <td>1.0</td>\n",
       "      <td>1.0</td>\n",
       "      <td>...</td>\n",
       "      <td>1.0</td>\n",
       "      <td>0.0</td>\n",
       "      <td>2.0</td>\n",
       "      <td>0.0</td>\n",
       "      <td>0.0</td>\n",
       "      <td>0.0</td>\n",
       "      <td>0.0</td>\n",
       "      <td>11.0</td>\n",
       "      <td>3.0</td>\n",
       "      <td>6.0</td>\n",
       "    </tr>\n",
       "    <tr>\n",
       "      <th>4</th>\n",
       "      <td>0.0</td>\n",
       "      <td>1.0</td>\n",
       "      <td>1.0</td>\n",
       "      <td>1.0</td>\n",
       "      <td>24.0</td>\n",
       "      <td>0.0</td>\n",
       "      <td>0.0</td>\n",
       "      <td>0.0</td>\n",
       "      <td>1.0</td>\n",
       "      <td>1.0</td>\n",
       "      <td>...</td>\n",
       "      <td>1.0</td>\n",
       "      <td>0.0</td>\n",
       "      <td>2.0</td>\n",
       "      <td>3.0</td>\n",
       "      <td>0.0</td>\n",
       "      <td>0.0</td>\n",
       "      <td>0.0</td>\n",
       "      <td>11.0</td>\n",
       "      <td>5.0</td>\n",
       "      <td>4.0</td>\n",
       "    </tr>\n",
       "  </tbody>\n",
       "</table>\n",
       "<p>5 rows × 22 columns</p>\n",
       "</div>"
      ],
      "text/plain": [
       "   HeartDiseaseorAttack  HighBP  HighChol  CholCheck   BMI  Smoker  Stroke  \\\n",
       "0                   0.0     1.0       1.0        1.0  40.0     1.0     0.0   \n",
       "1                   0.0     0.0       0.0        0.0  25.0     1.0     0.0   \n",
       "2                   0.0     1.0       1.0        1.0  28.0     0.0     0.0   \n",
       "3                   0.0     1.0       0.0        1.0  27.0     0.0     0.0   \n",
       "4                   0.0     1.0       1.0        1.0  24.0     0.0     0.0   \n",
       "\n",
       "   Diabetes  PhysActivity  Fruits  ...  AnyHealthcare  NoDocbcCost  GenHlth  \\\n",
       "0       0.0           0.0     0.0  ...            1.0          0.0      5.0   \n",
       "1       0.0           1.0     0.0  ...            0.0          1.0      3.0   \n",
       "2       0.0           0.0     1.0  ...            1.0          1.0      5.0   \n",
       "3       0.0           1.0     1.0  ...            1.0          0.0      2.0   \n",
       "4       0.0           1.0     1.0  ...            1.0          0.0      2.0   \n",
       "\n",
       "   MentHlth  PhysHlth  DiffWalk  Sex   Age  Education  Income  \n",
       "0      18.0      15.0       1.0  0.0   9.0        4.0     3.0  \n",
       "1       0.0       0.0       0.0  0.0   7.0        6.0     1.0  \n",
       "2      30.0      30.0       1.0  0.0   9.0        4.0     8.0  \n",
       "3       0.0       0.0       0.0  0.0  11.0        3.0     6.0  \n",
       "4       3.0       0.0       0.0  0.0  11.0        5.0     4.0  \n",
       "\n",
       "[5 rows x 22 columns]"
      ]
     },
     "execution_count": 3,
     "metadata": {},
     "output_type": "execute_result"
    }
   ],
   "source": [
    "# import dataset\n",
    "df = pd.read_csv('heart_disease_2015.csv')\n",
    "df.head()"
   ]
  },
  {
   "cell_type": "code",
   "execution_count": 4,
   "id": "521beb87",
   "metadata": {},
   "outputs": [
    {
     "data": {
      "text/plain": [
       "Index(['HeartDiseaseorAttack', 'HighBP', 'HighChol', 'CholCheck', 'BMI',\n",
       "       'Smoker', 'Stroke', 'Diabetes', 'PhysActivity', 'Fruits', 'Veggies',\n",
       "       'HvyAlcoholConsump', 'AnyHealthcare', 'NoDocbcCost', 'GenHlth',\n",
       "       'MentHlth', 'PhysHlth', 'DiffWalk', 'Sex', 'Age', 'Education',\n",
       "       'Income'],\n",
       "      dtype='object')"
      ]
     },
     "execution_count": 4,
     "metadata": {},
     "output_type": "execute_result"
    }
   ],
   "source": [
    "df.columns"
   ]
  },
  {
   "cell_type": "code",
   "execution_count": 5,
   "id": "925b522a",
   "metadata": {},
   "outputs": [
    {
     "name": "stdout",
     "output_type": "stream",
     "text": [
      "<class 'pandas.core.frame.DataFrame'>\n",
      "RangeIndex: 253680 entries, 0 to 253679\n",
      "Data columns (total 22 columns):\n",
      " #   Column                Non-Null Count   Dtype  \n",
      "---  ------                --------------   -----  \n",
      " 0   HeartDiseaseorAttack  253680 non-null  float64\n",
      " 1   HighBP                253680 non-null  float64\n",
      " 2   HighChol              253680 non-null  float64\n",
      " 3   CholCheck             253680 non-null  float64\n",
      " 4   BMI                   253680 non-null  float64\n",
      " 5   Smoker                253680 non-null  float64\n",
      " 6   Stroke                253680 non-null  float64\n",
      " 7   Diabetes              253680 non-null  float64\n",
      " 8   PhysActivity          253680 non-null  float64\n",
      " 9   Fruits                253680 non-null  float64\n",
      " 10  Veggies               253680 non-null  float64\n",
      " 11  HvyAlcoholConsump     253680 non-null  float64\n",
      " 12  AnyHealthcare         253680 non-null  float64\n",
      " 13  NoDocbcCost           253680 non-null  float64\n",
      " 14  GenHlth               253680 non-null  float64\n",
      " 15  MentHlth              253680 non-null  float64\n",
      " 16  PhysHlth              253680 non-null  float64\n",
      " 17  DiffWalk              253680 non-null  float64\n",
      " 18  Sex                   253680 non-null  float64\n",
      " 19  Age                   253680 non-null  float64\n",
      " 20  Education             253680 non-null  float64\n",
      " 21  Income                253680 non-null  float64\n",
      "dtypes: float64(22)\n",
      "memory usage: 42.6 MB\n"
     ]
    }
   ],
   "source": [
    "df.info()"
   ]
  },
  {
   "cell_type": "code",
   "execution_count": 6,
   "id": "ec45cbe0",
   "metadata": {},
   "outputs": [
    {
     "data": {
      "text/html": [
       "<div>\n",
       "<style scoped>\n",
       "    .dataframe tbody tr th:only-of-type {\n",
       "        vertical-align: middle;\n",
       "    }\n",
       "\n",
       "    .dataframe tbody tr th {\n",
       "        vertical-align: top;\n",
       "    }\n",
       "\n",
       "    .dataframe thead th {\n",
       "        text-align: right;\n",
       "    }\n",
       "</style>\n",
       "<table border=\"1\" class=\"dataframe\">\n",
       "  <thead>\n",
       "    <tr style=\"text-align: right;\">\n",
       "      <th></th>\n",
       "      <th>HeartDiseaseorAttack</th>\n",
       "      <th>HighBP</th>\n",
       "      <th>HighChol</th>\n",
       "      <th>CholCheck</th>\n",
       "      <th>BMI</th>\n",
       "      <th>Smoker</th>\n",
       "      <th>Stroke</th>\n",
       "      <th>Diabetes</th>\n",
       "      <th>PhysActivity</th>\n",
       "      <th>Fruits</th>\n",
       "      <th>...</th>\n",
       "      <th>AnyHealthcare</th>\n",
       "      <th>NoDocbcCost</th>\n",
       "      <th>GenHlth</th>\n",
       "      <th>MentHlth</th>\n",
       "      <th>PhysHlth</th>\n",
       "      <th>DiffWalk</th>\n",
       "      <th>Sex</th>\n",
       "      <th>Age</th>\n",
       "      <th>Education</th>\n",
       "      <th>Income</th>\n",
       "    </tr>\n",
       "  </thead>\n",
       "  <tbody>\n",
       "    <tr>\n",
       "      <th>count</th>\n",
       "      <td>253680.000000</td>\n",
       "      <td>253680.000000</td>\n",
       "      <td>253680.000000</td>\n",
       "      <td>253680.000000</td>\n",
       "      <td>253680.000000</td>\n",
       "      <td>253680.000000</td>\n",
       "      <td>253680.000000</td>\n",
       "      <td>253680.000000</td>\n",
       "      <td>253680.000000</td>\n",
       "      <td>253680.000000</td>\n",
       "      <td>...</td>\n",
       "      <td>253680.000000</td>\n",
       "      <td>253680.000000</td>\n",
       "      <td>253680.000000</td>\n",
       "      <td>253680.000000</td>\n",
       "      <td>253680.000000</td>\n",
       "      <td>253680.000000</td>\n",
       "      <td>253680.000000</td>\n",
       "      <td>253680.000000</td>\n",
       "      <td>253680.000000</td>\n",
       "      <td>253680.000000</td>\n",
       "    </tr>\n",
       "    <tr>\n",
       "      <th>mean</th>\n",
       "      <td>0.094186</td>\n",
       "      <td>0.429001</td>\n",
       "      <td>0.424121</td>\n",
       "      <td>0.962670</td>\n",
       "      <td>28.382364</td>\n",
       "      <td>0.443169</td>\n",
       "      <td>0.040571</td>\n",
       "      <td>0.296921</td>\n",
       "      <td>0.756544</td>\n",
       "      <td>0.634256</td>\n",
       "      <td>...</td>\n",
       "      <td>0.951053</td>\n",
       "      <td>0.084177</td>\n",
       "      <td>2.511392</td>\n",
       "      <td>3.184772</td>\n",
       "      <td>4.242081</td>\n",
       "      <td>0.168224</td>\n",
       "      <td>0.440342</td>\n",
       "      <td>8.032119</td>\n",
       "      <td>5.050434</td>\n",
       "      <td>6.053875</td>\n",
       "    </tr>\n",
       "    <tr>\n",
       "      <th>std</th>\n",
       "      <td>0.292087</td>\n",
       "      <td>0.494934</td>\n",
       "      <td>0.494210</td>\n",
       "      <td>0.189571</td>\n",
       "      <td>6.608694</td>\n",
       "      <td>0.496761</td>\n",
       "      <td>0.197294</td>\n",
       "      <td>0.698160</td>\n",
       "      <td>0.429169</td>\n",
       "      <td>0.481639</td>\n",
       "      <td>...</td>\n",
       "      <td>0.215759</td>\n",
       "      <td>0.277654</td>\n",
       "      <td>1.068477</td>\n",
       "      <td>7.412847</td>\n",
       "      <td>8.717951</td>\n",
       "      <td>0.374066</td>\n",
       "      <td>0.496429</td>\n",
       "      <td>3.054220</td>\n",
       "      <td>0.985774</td>\n",
       "      <td>2.071148</td>\n",
       "    </tr>\n",
       "    <tr>\n",
       "      <th>min</th>\n",
       "      <td>0.000000</td>\n",
       "      <td>0.000000</td>\n",
       "      <td>0.000000</td>\n",
       "      <td>0.000000</td>\n",
       "      <td>12.000000</td>\n",
       "      <td>0.000000</td>\n",
       "      <td>0.000000</td>\n",
       "      <td>0.000000</td>\n",
       "      <td>0.000000</td>\n",
       "      <td>0.000000</td>\n",
       "      <td>...</td>\n",
       "      <td>0.000000</td>\n",
       "      <td>0.000000</td>\n",
       "      <td>1.000000</td>\n",
       "      <td>0.000000</td>\n",
       "      <td>0.000000</td>\n",
       "      <td>0.000000</td>\n",
       "      <td>0.000000</td>\n",
       "      <td>1.000000</td>\n",
       "      <td>1.000000</td>\n",
       "      <td>1.000000</td>\n",
       "    </tr>\n",
       "    <tr>\n",
       "      <th>25%</th>\n",
       "      <td>0.000000</td>\n",
       "      <td>0.000000</td>\n",
       "      <td>0.000000</td>\n",
       "      <td>1.000000</td>\n",
       "      <td>24.000000</td>\n",
       "      <td>0.000000</td>\n",
       "      <td>0.000000</td>\n",
       "      <td>0.000000</td>\n",
       "      <td>1.000000</td>\n",
       "      <td>0.000000</td>\n",
       "      <td>...</td>\n",
       "      <td>1.000000</td>\n",
       "      <td>0.000000</td>\n",
       "      <td>2.000000</td>\n",
       "      <td>0.000000</td>\n",
       "      <td>0.000000</td>\n",
       "      <td>0.000000</td>\n",
       "      <td>0.000000</td>\n",
       "      <td>6.000000</td>\n",
       "      <td>4.000000</td>\n",
       "      <td>5.000000</td>\n",
       "    </tr>\n",
       "    <tr>\n",
       "      <th>50%</th>\n",
       "      <td>0.000000</td>\n",
       "      <td>0.000000</td>\n",
       "      <td>0.000000</td>\n",
       "      <td>1.000000</td>\n",
       "      <td>27.000000</td>\n",
       "      <td>0.000000</td>\n",
       "      <td>0.000000</td>\n",
       "      <td>0.000000</td>\n",
       "      <td>1.000000</td>\n",
       "      <td>1.000000</td>\n",
       "      <td>...</td>\n",
       "      <td>1.000000</td>\n",
       "      <td>0.000000</td>\n",
       "      <td>2.000000</td>\n",
       "      <td>0.000000</td>\n",
       "      <td>0.000000</td>\n",
       "      <td>0.000000</td>\n",
       "      <td>0.000000</td>\n",
       "      <td>8.000000</td>\n",
       "      <td>5.000000</td>\n",
       "      <td>7.000000</td>\n",
       "    </tr>\n",
       "    <tr>\n",
       "      <th>75%</th>\n",
       "      <td>0.000000</td>\n",
       "      <td>1.000000</td>\n",
       "      <td>1.000000</td>\n",
       "      <td>1.000000</td>\n",
       "      <td>31.000000</td>\n",
       "      <td>1.000000</td>\n",
       "      <td>0.000000</td>\n",
       "      <td>0.000000</td>\n",
       "      <td>1.000000</td>\n",
       "      <td>1.000000</td>\n",
       "      <td>...</td>\n",
       "      <td>1.000000</td>\n",
       "      <td>0.000000</td>\n",
       "      <td>3.000000</td>\n",
       "      <td>2.000000</td>\n",
       "      <td>3.000000</td>\n",
       "      <td>0.000000</td>\n",
       "      <td>1.000000</td>\n",
       "      <td>10.000000</td>\n",
       "      <td>6.000000</td>\n",
       "      <td>8.000000</td>\n",
       "    </tr>\n",
       "    <tr>\n",
       "      <th>max</th>\n",
       "      <td>1.000000</td>\n",
       "      <td>1.000000</td>\n",
       "      <td>1.000000</td>\n",
       "      <td>1.000000</td>\n",
       "      <td>98.000000</td>\n",
       "      <td>1.000000</td>\n",
       "      <td>1.000000</td>\n",
       "      <td>2.000000</td>\n",
       "      <td>1.000000</td>\n",
       "      <td>1.000000</td>\n",
       "      <td>...</td>\n",
       "      <td>1.000000</td>\n",
       "      <td>1.000000</td>\n",
       "      <td>5.000000</td>\n",
       "      <td>30.000000</td>\n",
       "      <td>30.000000</td>\n",
       "      <td>1.000000</td>\n",
       "      <td>1.000000</td>\n",
       "      <td>13.000000</td>\n",
       "      <td>6.000000</td>\n",
       "      <td>8.000000</td>\n",
       "    </tr>\n",
       "  </tbody>\n",
       "</table>\n",
       "<p>8 rows × 22 columns</p>\n",
       "</div>"
      ],
      "text/plain": [
       "       HeartDiseaseorAttack         HighBP       HighChol      CholCheck  \\\n",
       "count         253680.000000  253680.000000  253680.000000  253680.000000   \n",
       "mean               0.094186       0.429001       0.424121       0.962670   \n",
       "std                0.292087       0.494934       0.494210       0.189571   \n",
       "min                0.000000       0.000000       0.000000       0.000000   \n",
       "25%                0.000000       0.000000       0.000000       1.000000   \n",
       "50%                0.000000       0.000000       0.000000       1.000000   \n",
       "75%                0.000000       1.000000       1.000000       1.000000   \n",
       "max                1.000000       1.000000       1.000000       1.000000   \n",
       "\n",
       "                 BMI         Smoker         Stroke       Diabetes  \\\n",
       "count  253680.000000  253680.000000  253680.000000  253680.000000   \n",
       "mean       28.382364       0.443169       0.040571       0.296921   \n",
       "std         6.608694       0.496761       0.197294       0.698160   \n",
       "min        12.000000       0.000000       0.000000       0.000000   \n",
       "25%        24.000000       0.000000       0.000000       0.000000   \n",
       "50%        27.000000       0.000000       0.000000       0.000000   \n",
       "75%        31.000000       1.000000       0.000000       0.000000   \n",
       "max        98.000000       1.000000       1.000000       2.000000   \n",
       "\n",
       "        PhysActivity         Fruits  ...  AnyHealthcare    NoDocbcCost  \\\n",
       "count  253680.000000  253680.000000  ...  253680.000000  253680.000000   \n",
       "mean        0.756544       0.634256  ...       0.951053       0.084177   \n",
       "std         0.429169       0.481639  ...       0.215759       0.277654   \n",
       "min         0.000000       0.000000  ...       0.000000       0.000000   \n",
       "25%         1.000000       0.000000  ...       1.000000       0.000000   \n",
       "50%         1.000000       1.000000  ...       1.000000       0.000000   \n",
       "75%         1.000000       1.000000  ...       1.000000       0.000000   \n",
       "max         1.000000       1.000000  ...       1.000000       1.000000   \n",
       "\n",
       "             GenHlth       MentHlth       PhysHlth       DiffWalk  \\\n",
       "count  253680.000000  253680.000000  253680.000000  253680.000000   \n",
       "mean        2.511392       3.184772       4.242081       0.168224   \n",
       "std         1.068477       7.412847       8.717951       0.374066   \n",
       "min         1.000000       0.000000       0.000000       0.000000   \n",
       "25%         2.000000       0.000000       0.000000       0.000000   \n",
       "50%         2.000000       0.000000       0.000000       0.000000   \n",
       "75%         3.000000       2.000000       3.000000       0.000000   \n",
       "max         5.000000      30.000000      30.000000       1.000000   \n",
       "\n",
       "                 Sex            Age      Education         Income  \n",
       "count  253680.000000  253680.000000  253680.000000  253680.000000  \n",
       "mean        0.440342       8.032119       5.050434       6.053875  \n",
       "std         0.496429       3.054220       0.985774       2.071148  \n",
       "min         0.000000       1.000000       1.000000       1.000000  \n",
       "25%         0.000000       6.000000       4.000000       5.000000  \n",
       "50%         0.000000       8.000000       5.000000       7.000000  \n",
       "75%         1.000000      10.000000       6.000000       8.000000  \n",
       "max         1.000000      13.000000       6.000000       8.000000  \n",
       "\n",
       "[8 rows x 22 columns]"
      ]
     },
     "execution_count": 6,
     "metadata": {},
     "output_type": "execute_result"
    }
   ],
   "source": [
    "df.describe()"
   ]
  },
  {
   "cell_type": "code",
   "execution_count": 7,
   "id": "9a6c34ef",
   "metadata": {},
   "outputs": [
    {
     "data": {
      "text/html": [
       "<div>\n",
       "<style scoped>\n",
       "    .dataframe tbody tr th:only-of-type {\n",
       "        vertical-align: middle;\n",
       "    }\n",
       "\n",
       "    .dataframe tbody tr th {\n",
       "        vertical-align: top;\n",
       "    }\n",
       "\n",
       "    .dataframe thead th {\n",
       "        text-align: right;\n",
       "    }\n",
       "</style>\n",
       "<table border=\"1\" class=\"dataframe\">\n",
       "  <thead>\n",
       "    <tr style=\"text-align: right;\">\n",
       "      <th></th>\n",
       "      <th>HeartDiseaseorAttack</th>\n",
       "      <th>HighBP</th>\n",
       "      <th>HighChol</th>\n",
       "      <th>CholCheck</th>\n",
       "      <th>BMI</th>\n",
       "      <th>Smoker</th>\n",
       "      <th>Stroke</th>\n",
       "      <th>Diabetes</th>\n",
       "      <th>PhysActivity</th>\n",
       "      <th>Fruits</th>\n",
       "      <th>...</th>\n",
       "      <th>AnyHealthcare</th>\n",
       "      <th>NoDocbcCost</th>\n",
       "      <th>GenHlth</th>\n",
       "      <th>MentHlth</th>\n",
       "      <th>PhysHlth</th>\n",
       "      <th>DiffWalk</th>\n",
       "      <th>Sex</th>\n",
       "      <th>Age</th>\n",
       "      <th>Education</th>\n",
       "      <th>Income</th>\n",
       "    </tr>\n",
       "  </thead>\n",
       "  <tbody>\n",
       "    <tr>\n",
       "      <th>count</th>\n",
       "      <td>23893.0</td>\n",
       "      <td>23893.000000</td>\n",
       "      <td>23893.000000</td>\n",
       "      <td>23893.000000</td>\n",
       "      <td>23893.000000</td>\n",
       "      <td>23893.000000</td>\n",
       "      <td>23893.000000</td>\n",
       "      <td>23893.000000</td>\n",
       "      <td>23893.000000</td>\n",
       "      <td>23893.000000</td>\n",
       "      <td>...</td>\n",
       "      <td>23893.000000</td>\n",
       "      <td>23893.000000</td>\n",
       "      <td>23893.000000</td>\n",
       "      <td>23893.000000</td>\n",
       "      <td>23893.000000</td>\n",
       "      <td>23893.000000</td>\n",
       "      <td>23893.000000</td>\n",
       "      <td>23893.000000</td>\n",
       "      <td>23893.000000</td>\n",
       "      <td>23893.000000</td>\n",
       "    </tr>\n",
       "    <tr>\n",
       "      <th>mean</th>\n",
       "      <td>1.0</td>\n",
       "      <td>0.750345</td>\n",
       "      <td>0.701168</td>\n",
       "      <td>0.988658</td>\n",
       "      <td>29.466622</td>\n",
       "      <td>0.619470</td>\n",
       "      <td>0.164776</td>\n",
       "      <td>0.687231</td>\n",
       "      <td>0.640355</td>\n",
       "      <td>0.604696</td>\n",
       "      <td>...</td>\n",
       "      <td>0.963588</td>\n",
       "      <td>0.110869</td>\n",
       "      <td>3.367555</td>\n",
       "      <td>4.670322</td>\n",
       "      <td>9.154439</td>\n",
       "      <td>0.414975</td>\n",
       "      <td>0.572887</td>\n",
       "      <td>10.131210</td>\n",
       "      <td>4.745951</td>\n",
       "      <td>5.148161</td>\n",
       "    </tr>\n",
       "    <tr>\n",
       "      <th>std</th>\n",
       "      <td>0.0</td>\n",
       "      <td>0.432822</td>\n",
       "      <td>0.457756</td>\n",
       "      <td>0.105896</td>\n",
       "      <td>6.740591</td>\n",
       "      <td>0.485527</td>\n",
       "      <td>0.370986</td>\n",
       "      <td>0.935105</td>\n",
       "      <td>0.479906</td>\n",
       "      <td>0.488926</td>\n",
       "      <td>...</td>\n",
       "      <td>0.187318</td>\n",
       "      <td>0.313977</td>\n",
       "      <td>1.084882</td>\n",
       "      <td>9.192712</td>\n",
       "      <td>11.873898</td>\n",
       "      <td>0.492728</td>\n",
       "      <td>0.494669</td>\n",
       "      <td>2.218853</td>\n",
       "      <td>1.061990</td>\n",
       "      <td>2.198956</td>\n",
       "    </tr>\n",
       "    <tr>\n",
       "      <th>min</th>\n",
       "      <td>1.0</td>\n",
       "      <td>0.000000</td>\n",
       "      <td>0.000000</td>\n",
       "      <td>0.000000</td>\n",
       "      <td>12.000000</td>\n",
       "      <td>0.000000</td>\n",
       "      <td>0.000000</td>\n",
       "      <td>0.000000</td>\n",
       "      <td>0.000000</td>\n",
       "      <td>0.000000</td>\n",
       "      <td>...</td>\n",
       "      <td>0.000000</td>\n",
       "      <td>0.000000</td>\n",
       "      <td>1.000000</td>\n",
       "      <td>0.000000</td>\n",
       "      <td>0.000000</td>\n",
       "      <td>0.000000</td>\n",
       "      <td>0.000000</td>\n",
       "      <td>1.000000</td>\n",
       "      <td>1.000000</td>\n",
       "      <td>1.000000</td>\n",
       "    </tr>\n",
       "    <tr>\n",
       "      <th>25%</th>\n",
       "      <td>1.0</td>\n",
       "      <td>1.000000</td>\n",
       "      <td>0.000000</td>\n",
       "      <td>1.000000</td>\n",
       "      <td>25.000000</td>\n",
       "      <td>0.000000</td>\n",
       "      <td>0.000000</td>\n",
       "      <td>0.000000</td>\n",
       "      <td>0.000000</td>\n",
       "      <td>0.000000</td>\n",
       "      <td>...</td>\n",
       "      <td>1.000000</td>\n",
       "      <td>0.000000</td>\n",
       "      <td>3.000000</td>\n",
       "      <td>0.000000</td>\n",
       "      <td>0.000000</td>\n",
       "      <td>0.000000</td>\n",
       "      <td>0.000000</td>\n",
       "      <td>9.000000</td>\n",
       "      <td>4.000000</td>\n",
       "      <td>3.000000</td>\n",
       "    </tr>\n",
       "    <tr>\n",
       "      <th>50%</th>\n",
       "      <td>1.0</td>\n",
       "      <td>1.000000</td>\n",
       "      <td>1.000000</td>\n",
       "      <td>1.000000</td>\n",
       "      <td>28.000000</td>\n",
       "      <td>1.000000</td>\n",
       "      <td>0.000000</td>\n",
       "      <td>0.000000</td>\n",
       "      <td>1.000000</td>\n",
       "      <td>1.000000</td>\n",
       "      <td>...</td>\n",
       "      <td>1.000000</td>\n",
       "      <td>0.000000</td>\n",
       "      <td>3.000000</td>\n",
       "      <td>0.000000</td>\n",
       "      <td>2.000000</td>\n",
       "      <td>0.000000</td>\n",
       "      <td>1.000000</td>\n",
       "      <td>10.000000</td>\n",
       "      <td>5.000000</td>\n",
       "      <td>5.000000</td>\n",
       "    </tr>\n",
       "    <tr>\n",
       "      <th>75%</th>\n",
       "      <td>1.0</td>\n",
       "      <td>1.000000</td>\n",
       "      <td>1.000000</td>\n",
       "      <td>1.000000</td>\n",
       "      <td>33.000000</td>\n",
       "      <td>1.000000</td>\n",
       "      <td>0.000000</td>\n",
       "      <td>2.000000</td>\n",
       "      <td>1.000000</td>\n",
       "      <td>1.000000</td>\n",
       "      <td>...</td>\n",
       "      <td>1.000000</td>\n",
       "      <td>0.000000</td>\n",
       "      <td>4.000000</td>\n",
       "      <td>4.000000</td>\n",
       "      <td>20.000000</td>\n",
       "      <td>1.000000</td>\n",
       "      <td>1.000000</td>\n",
       "      <td>12.000000</td>\n",
       "      <td>6.000000</td>\n",
       "      <td>7.000000</td>\n",
       "    </tr>\n",
       "    <tr>\n",
       "      <th>max</th>\n",
       "      <td>1.0</td>\n",
       "      <td>1.000000</td>\n",
       "      <td>1.000000</td>\n",
       "      <td>1.000000</td>\n",
       "      <td>98.000000</td>\n",
       "      <td>1.000000</td>\n",
       "      <td>1.000000</td>\n",
       "      <td>2.000000</td>\n",
       "      <td>1.000000</td>\n",
       "      <td>1.000000</td>\n",
       "      <td>...</td>\n",
       "      <td>1.000000</td>\n",
       "      <td>1.000000</td>\n",
       "      <td>5.000000</td>\n",
       "      <td>30.000000</td>\n",
       "      <td>30.000000</td>\n",
       "      <td>1.000000</td>\n",
       "      <td>1.000000</td>\n",
       "      <td>13.000000</td>\n",
       "      <td>6.000000</td>\n",
       "      <td>8.000000</td>\n",
       "    </tr>\n",
       "  </tbody>\n",
       "</table>\n",
       "<p>8 rows × 22 columns</p>\n",
       "</div>"
      ],
      "text/plain": [
       "       HeartDiseaseorAttack        HighBP      HighChol     CholCheck  \\\n",
       "count               23893.0  23893.000000  23893.000000  23893.000000   \n",
       "mean                    1.0      0.750345      0.701168      0.988658   \n",
       "std                     0.0      0.432822      0.457756      0.105896   \n",
       "min                     1.0      0.000000      0.000000      0.000000   \n",
       "25%                     1.0      1.000000      0.000000      1.000000   \n",
       "50%                     1.0      1.000000      1.000000      1.000000   \n",
       "75%                     1.0      1.000000      1.000000      1.000000   \n",
       "max                     1.0      1.000000      1.000000      1.000000   \n",
       "\n",
       "                BMI        Smoker        Stroke      Diabetes  PhysActivity  \\\n",
       "count  23893.000000  23893.000000  23893.000000  23893.000000  23893.000000   \n",
       "mean      29.466622      0.619470      0.164776      0.687231      0.640355   \n",
       "std        6.740591      0.485527      0.370986      0.935105      0.479906   \n",
       "min       12.000000      0.000000      0.000000      0.000000      0.000000   \n",
       "25%       25.000000      0.000000      0.000000      0.000000      0.000000   \n",
       "50%       28.000000      1.000000      0.000000      0.000000      1.000000   \n",
       "75%       33.000000      1.000000      0.000000      2.000000      1.000000   \n",
       "max       98.000000      1.000000      1.000000      2.000000      1.000000   \n",
       "\n",
       "             Fruits  ...  AnyHealthcare   NoDocbcCost       GenHlth  \\\n",
       "count  23893.000000  ...   23893.000000  23893.000000  23893.000000   \n",
       "mean       0.604696  ...       0.963588      0.110869      3.367555   \n",
       "std        0.488926  ...       0.187318      0.313977      1.084882   \n",
       "min        0.000000  ...       0.000000      0.000000      1.000000   \n",
       "25%        0.000000  ...       1.000000      0.000000      3.000000   \n",
       "50%        1.000000  ...       1.000000      0.000000      3.000000   \n",
       "75%        1.000000  ...       1.000000      0.000000      4.000000   \n",
       "max        1.000000  ...       1.000000      1.000000      5.000000   \n",
       "\n",
       "           MentHlth      PhysHlth      DiffWalk           Sex           Age  \\\n",
       "count  23893.000000  23893.000000  23893.000000  23893.000000  23893.000000   \n",
       "mean       4.670322      9.154439      0.414975      0.572887     10.131210   \n",
       "std        9.192712     11.873898      0.492728      0.494669      2.218853   \n",
       "min        0.000000      0.000000      0.000000      0.000000      1.000000   \n",
       "25%        0.000000      0.000000      0.000000      0.000000      9.000000   \n",
       "50%        0.000000      2.000000      0.000000      1.000000     10.000000   \n",
       "75%        4.000000     20.000000      1.000000      1.000000     12.000000   \n",
       "max       30.000000     30.000000      1.000000      1.000000     13.000000   \n",
       "\n",
       "          Education        Income  \n",
       "count  23893.000000  23893.000000  \n",
       "mean       4.745951      5.148161  \n",
       "std        1.061990      2.198956  \n",
       "min        1.000000      1.000000  \n",
       "25%        4.000000      3.000000  \n",
       "50%        5.000000      5.000000  \n",
       "75%        6.000000      7.000000  \n",
       "max        6.000000      8.000000  \n",
       "\n",
       "[8 rows x 22 columns]"
      ]
     },
     "execution_count": 7,
     "metadata": {},
     "output_type": "execute_result"
    }
   ],
   "source": [
    "# Stats for positive cases and features\n",
    "pos_df = df[df['HeartDiseaseorAttack']==1]\n",
    "pos_df.describe()"
   ]
  },
  {
   "cell_type": "code",
   "execution_count": 8,
   "id": "39fe4dec",
   "metadata": {},
   "outputs": [
    {
     "data": {
      "text/html": [
       "<div>\n",
       "<style scoped>\n",
       "    .dataframe tbody tr th:only-of-type {\n",
       "        vertical-align: middle;\n",
       "    }\n",
       "\n",
       "    .dataframe tbody tr th {\n",
       "        vertical-align: top;\n",
       "    }\n",
       "\n",
       "    .dataframe thead th {\n",
       "        text-align: right;\n",
       "    }\n",
       "</style>\n",
       "<table border=\"1\" class=\"dataframe\">\n",
       "  <thead>\n",
       "    <tr style=\"text-align: right;\">\n",
       "      <th></th>\n",
       "      <th>HeartDiseaseorAttack</th>\n",
       "      <th>HighBP</th>\n",
       "      <th>HighChol</th>\n",
       "      <th>CholCheck</th>\n",
       "      <th>BMI</th>\n",
       "      <th>Smoker</th>\n",
       "      <th>Stroke</th>\n",
       "      <th>Diabetes</th>\n",
       "      <th>PhysActivity</th>\n",
       "      <th>Fruits</th>\n",
       "      <th>...</th>\n",
       "      <th>AnyHealthcare</th>\n",
       "      <th>NoDocbcCost</th>\n",
       "      <th>GenHlth</th>\n",
       "      <th>MentHlth</th>\n",
       "      <th>PhysHlth</th>\n",
       "      <th>DiffWalk</th>\n",
       "      <th>Sex</th>\n",
       "      <th>Age</th>\n",
       "      <th>Education</th>\n",
       "      <th>Income</th>\n",
       "    </tr>\n",
       "  </thead>\n",
       "  <tbody>\n",
       "    <tr>\n",
       "      <th>count</th>\n",
       "      <td>229787.0</td>\n",
       "      <td>229787.000000</td>\n",
       "      <td>229787.000000</td>\n",
       "      <td>229787.000000</td>\n",
       "      <td>229787.000000</td>\n",
       "      <td>229787.000000</td>\n",
       "      <td>229787.000000</td>\n",
       "      <td>229787.000000</td>\n",
       "      <td>229787.000000</td>\n",
       "      <td>229787.000000</td>\n",
       "      <td>...</td>\n",
       "      <td>229787.000000</td>\n",
       "      <td>229787.000000</td>\n",
       "      <td>229787.000000</td>\n",
       "      <td>229787.000000</td>\n",
       "      <td>229787.000000</td>\n",
       "      <td>229787.000000</td>\n",
       "      <td>229787.000000</td>\n",
       "      <td>229787.000000</td>\n",
       "      <td>229787.000000</td>\n",
       "      <td>229787.000000</td>\n",
       "    </tr>\n",
       "    <tr>\n",
       "      <th>mean</th>\n",
       "      <td>0.0</td>\n",
       "      <td>0.395588</td>\n",
       "      <td>0.395314</td>\n",
       "      <td>0.959967</td>\n",
       "      <td>28.269624</td>\n",
       "      <td>0.424837</td>\n",
       "      <td>0.027656</td>\n",
       "      <td>0.256337</td>\n",
       "      <td>0.768625</td>\n",
       "      <td>0.637329</td>\n",
       "      <td>...</td>\n",
       "      <td>0.949749</td>\n",
       "      <td>0.081401</td>\n",
       "      <td>2.422369</td>\n",
       "      <td>3.030306</td>\n",
       "      <td>3.731299</td>\n",
       "      <td>0.142567</td>\n",
       "      <td>0.426560</td>\n",
       "      <td>7.813858</td>\n",
       "      <td>5.082093</td>\n",
       "      <td>6.148050</td>\n",
       "    </tr>\n",
       "    <tr>\n",
       "      <th>std</th>\n",
       "      <td>0.0</td>\n",
       "      <td>0.488978</td>\n",
       "      <td>0.488919</td>\n",
       "      <td>0.196036</td>\n",
       "      <td>6.584604</td>\n",
       "      <td>0.494319</td>\n",
       "      <td>0.163986</td>\n",
       "      <td>0.655518</td>\n",
       "      <td>0.421713</td>\n",
       "      <td>0.480772</td>\n",
       "      <td>...</td>\n",
       "      <td>0.218463</td>\n",
       "      <td>0.273451</td>\n",
       "      <td>1.026563</td>\n",
       "      <td>7.184995</td>\n",
       "      <td>8.153279</td>\n",
       "      <td>0.349631</td>\n",
       "      <td>0.494578</td>\n",
       "      <td>3.046394</td>\n",
       "      <td>0.972052</td>\n",
       "      <td>2.034395</td>\n",
       "    </tr>\n",
       "    <tr>\n",
       "      <th>min</th>\n",
       "      <td>0.0</td>\n",
       "      <td>0.000000</td>\n",
       "      <td>0.000000</td>\n",
       "      <td>0.000000</td>\n",
       "      <td>12.000000</td>\n",
       "      <td>0.000000</td>\n",
       "      <td>0.000000</td>\n",
       "      <td>0.000000</td>\n",
       "      <td>0.000000</td>\n",
       "      <td>0.000000</td>\n",
       "      <td>...</td>\n",
       "      <td>0.000000</td>\n",
       "      <td>0.000000</td>\n",
       "      <td>1.000000</td>\n",
       "      <td>0.000000</td>\n",
       "      <td>0.000000</td>\n",
       "      <td>0.000000</td>\n",
       "      <td>0.000000</td>\n",
       "      <td>1.000000</td>\n",
       "      <td>1.000000</td>\n",
       "      <td>1.000000</td>\n",
       "    </tr>\n",
       "    <tr>\n",
       "      <th>25%</th>\n",
       "      <td>0.0</td>\n",
       "      <td>0.000000</td>\n",
       "      <td>0.000000</td>\n",
       "      <td>1.000000</td>\n",
       "      <td>24.000000</td>\n",
       "      <td>0.000000</td>\n",
       "      <td>0.000000</td>\n",
       "      <td>0.000000</td>\n",
       "      <td>1.000000</td>\n",
       "      <td>0.000000</td>\n",
       "      <td>...</td>\n",
       "      <td>1.000000</td>\n",
       "      <td>0.000000</td>\n",
       "      <td>2.000000</td>\n",
       "      <td>0.000000</td>\n",
       "      <td>0.000000</td>\n",
       "      <td>0.000000</td>\n",
       "      <td>0.000000</td>\n",
       "      <td>6.000000</td>\n",
       "      <td>4.000000</td>\n",
       "      <td>5.000000</td>\n",
       "    </tr>\n",
       "    <tr>\n",
       "      <th>50%</th>\n",
       "      <td>0.0</td>\n",
       "      <td>0.000000</td>\n",
       "      <td>0.000000</td>\n",
       "      <td>1.000000</td>\n",
       "      <td>27.000000</td>\n",
       "      <td>0.000000</td>\n",
       "      <td>0.000000</td>\n",
       "      <td>0.000000</td>\n",
       "      <td>1.000000</td>\n",
       "      <td>1.000000</td>\n",
       "      <td>...</td>\n",
       "      <td>1.000000</td>\n",
       "      <td>0.000000</td>\n",
       "      <td>2.000000</td>\n",
       "      <td>0.000000</td>\n",
       "      <td>0.000000</td>\n",
       "      <td>0.000000</td>\n",
       "      <td>0.000000</td>\n",
       "      <td>8.000000</td>\n",
       "      <td>5.000000</td>\n",
       "      <td>7.000000</td>\n",
       "    </tr>\n",
       "    <tr>\n",
       "      <th>75%</th>\n",
       "      <td>0.0</td>\n",
       "      <td>1.000000</td>\n",
       "      <td>1.000000</td>\n",
       "      <td>1.000000</td>\n",
       "      <td>31.000000</td>\n",
       "      <td>1.000000</td>\n",
       "      <td>0.000000</td>\n",
       "      <td>0.000000</td>\n",
       "      <td>1.000000</td>\n",
       "      <td>1.000000</td>\n",
       "      <td>...</td>\n",
       "      <td>1.000000</td>\n",
       "      <td>0.000000</td>\n",
       "      <td>3.000000</td>\n",
       "      <td>2.000000</td>\n",
       "      <td>2.000000</td>\n",
       "      <td>0.000000</td>\n",
       "      <td>1.000000</td>\n",
       "      <td>10.000000</td>\n",
       "      <td>6.000000</td>\n",
       "      <td>8.000000</td>\n",
       "    </tr>\n",
       "    <tr>\n",
       "      <th>max</th>\n",
       "      <td>0.0</td>\n",
       "      <td>1.000000</td>\n",
       "      <td>1.000000</td>\n",
       "      <td>1.000000</td>\n",
       "      <td>98.000000</td>\n",
       "      <td>1.000000</td>\n",
       "      <td>1.000000</td>\n",
       "      <td>2.000000</td>\n",
       "      <td>1.000000</td>\n",
       "      <td>1.000000</td>\n",
       "      <td>...</td>\n",
       "      <td>1.000000</td>\n",
       "      <td>1.000000</td>\n",
       "      <td>5.000000</td>\n",
       "      <td>30.000000</td>\n",
       "      <td>30.000000</td>\n",
       "      <td>1.000000</td>\n",
       "      <td>1.000000</td>\n",
       "      <td>13.000000</td>\n",
       "      <td>6.000000</td>\n",
       "      <td>8.000000</td>\n",
       "    </tr>\n",
       "  </tbody>\n",
       "</table>\n",
       "<p>8 rows × 22 columns</p>\n",
       "</div>"
      ],
      "text/plain": [
       "       HeartDiseaseorAttack         HighBP       HighChol      CholCheck  \\\n",
       "count              229787.0  229787.000000  229787.000000  229787.000000   \n",
       "mean                    0.0       0.395588       0.395314       0.959967   \n",
       "std                     0.0       0.488978       0.488919       0.196036   \n",
       "min                     0.0       0.000000       0.000000       0.000000   \n",
       "25%                     0.0       0.000000       0.000000       1.000000   \n",
       "50%                     0.0       0.000000       0.000000       1.000000   \n",
       "75%                     0.0       1.000000       1.000000       1.000000   \n",
       "max                     0.0       1.000000       1.000000       1.000000   \n",
       "\n",
       "                 BMI         Smoker         Stroke       Diabetes  \\\n",
       "count  229787.000000  229787.000000  229787.000000  229787.000000   \n",
       "mean       28.269624       0.424837       0.027656       0.256337   \n",
       "std         6.584604       0.494319       0.163986       0.655518   \n",
       "min        12.000000       0.000000       0.000000       0.000000   \n",
       "25%        24.000000       0.000000       0.000000       0.000000   \n",
       "50%        27.000000       0.000000       0.000000       0.000000   \n",
       "75%        31.000000       1.000000       0.000000       0.000000   \n",
       "max        98.000000       1.000000       1.000000       2.000000   \n",
       "\n",
       "        PhysActivity         Fruits  ...  AnyHealthcare    NoDocbcCost  \\\n",
       "count  229787.000000  229787.000000  ...  229787.000000  229787.000000   \n",
       "mean        0.768625       0.637329  ...       0.949749       0.081401   \n",
       "std         0.421713       0.480772  ...       0.218463       0.273451   \n",
       "min         0.000000       0.000000  ...       0.000000       0.000000   \n",
       "25%         1.000000       0.000000  ...       1.000000       0.000000   \n",
       "50%         1.000000       1.000000  ...       1.000000       0.000000   \n",
       "75%         1.000000       1.000000  ...       1.000000       0.000000   \n",
       "max         1.000000       1.000000  ...       1.000000       1.000000   \n",
       "\n",
       "             GenHlth       MentHlth       PhysHlth       DiffWalk  \\\n",
       "count  229787.000000  229787.000000  229787.000000  229787.000000   \n",
       "mean        2.422369       3.030306       3.731299       0.142567   \n",
       "std         1.026563       7.184995       8.153279       0.349631   \n",
       "min         1.000000       0.000000       0.000000       0.000000   \n",
       "25%         2.000000       0.000000       0.000000       0.000000   \n",
       "50%         2.000000       0.000000       0.000000       0.000000   \n",
       "75%         3.000000       2.000000       2.000000       0.000000   \n",
       "max         5.000000      30.000000      30.000000       1.000000   \n",
       "\n",
       "                 Sex            Age      Education         Income  \n",
       "count  229787.000000  229787.000000  229787.000000  229787.000000  \n",
       "mean        0.426560       7.813858       5.082093       6.148050  \n",
       "std         0.494578       3.046394       0.972052       2.034395  \n",
       "min         0.000000       1.000000       1.000000       1.000000  \n",
       "25%         0.000000       6.000000       4.000000       5.000000  \n",
       "50%         0.000000       8.000000       5.000000       7.000000  \n",
       "75%         1.000000      10.000000       6.000000       8.000000  \n",
       "max         1.000000      13.000000       6.000000       8.000000  \n",
       "\n",
       "[8 rows x 22 columns]"
      ]
     },
     "execution_count": 8,
     "metadata": {},
     "output_type": "execute_result"
    }
   ],
   "source": [
    "# Stats for negative cases and features\n",
    "neg_df = df[df['HeartDiseaseorAttack']==0]\n",
    "neg_df.describe()"
   ]
  },
  {
   "cell_type": "code",
   "execution_count": 9,
   "id": "381f615b",
   "metadata": {},
   "outputs": [
    {
     "data": {
      "image/png": "[encoded data removed]",
      "text/plain": [
       "<Figure size 432x288 with 2 Axes>"
      ]
     },
     "metadata": {
      "needs_background": "light"
     },
     "output_type": "display_data"
    }
   ],
   "source": [
    "# correlation df\n",
    "corr_df = df.corr()\n",
    "\n",
    "# Correlation heatmap\n",
    "sns.heatmap(corr_df, cmap='seismic', vmin=-1, vmax=1);"
   ]
  },
  {
   "cell_type": "code",
   "execution_count": 10,
   "id": "5dab6385",
   "metadata": {},
   "outputs": [
    {
     "data": {
      "text/plain": [
       "HeartDiseaseorAttack    1.000000\n",
       "GenHlth                 0.258383\n",
       "Age                     0.221618\n",
       "DiffWalk                0.212709\n",
       "HighBP                  0.209361\n",
       "Stroke                  0.203002\n",
       "PhysHlth                0.181698\n",
       "HighChol                0.180765\n",
       "Diabetes                0.180272\n",
       "Income                  0.141011\n",
       "Smoker                  0.114441\n",
       "Education               0.099600\n",
       "PhysActivity            0.087299\n",
       "Sex                     0.086096\n",
       "MentHlth                0.064621\n",
       "BMI                     0.052904\n",
       "CholCheck               0.044206\n",
       "Veggies                 0.039167\n",
       "NoDocbcCost             0.031000\n",
       "HvyAlcoholConsump       0.028991\n",
       "Fruits                  0.019790\n",
       "AnyHealthcare           0.018734\n",
       "Name: HeartDiseaseorAttack, dtype: float64"
      ]
     },
     "execution_count": 10,
     "metadata": {},
     "output_type": "execute_result"
    }
   ],
   "source": [
    "# view correlations with target\n",
    "corr_df['HeartDiseaseorAttack'].abs().sort_values(ascending=False)"
   ]
  },
  {
   "cell_type": "markdown",
   "id": "dcdfe1a7",
   "metadata": {},
   "source": [
    "### Distribution of Target Variables"
   ]
  },
  {
   "cell_type": "code",
   "execution_count": 11,
   "id": "4453fe1a",
   "metadata": {},
   "outputs": [
    {
     "data": {
      "image/png": "[encoded data removed]",
      "text/plain": [
       "<Figure size 360x360 with 1 Axes>"
      ]
     },
     "metadata": {},
     "output_type": "display_data"
    }
   ],
   "source": [
    "# Create pie chart of the distribution of HD vs. No HD\n",
    "\n",
    "labels = 'No Heart Disease (0)', 'Heart Disease (1)'\n",
    "\n",
    "fig, ax = plt.subplots(figsize=(5, 5))\n",
    "ax.set_title(\"Distribution of Heart Disease Vs. No Heart Disease\")\n",
    "df['HeartDiseaseorAttack'].value_counts().plot.pie(autopct='%.2f', labels=labels, legend=False, ax=ax)\n",
    "\n",
    "ax.set_ylabel(None)\n",
    "plt.show();"
   ]
  },
  {
   "cell_type": "code",
   "execution_count": 12,
   "id": "7ee2f607",
   "metadata": {},
   "outputs": [
    {
     "data": {
      "text/plain": [
       "0.0    229787\n",
       "1.0     23893\n",
       "Name: HeartDiseaseorAttack, dtype: int64"
      ]
     },
     "execution_count": 12,
     "metadata": {},
     "output_type": "execute_result"
    }
   ],
   "source": [
    "df['HeartDiseaseorAttack'].value_counts()"
   ]
  },
  {
   "cell_type": "markdown",
   "id": "93a88bdb",
   "metadata": {},
   "source": [
    "## Train - Test - Split\n",
    "60/20/20 - Train/Validation/Test"
   ]
  },
  {
   "cell_type": "code",
   "execution_count": 13,
   "id": "9efdbc70",
   "metadata": {},
   "outputs": [],
   "source": [
    "# Split data into training, validation, testing sets\n",
    "X, y = df.drop('HeartDiseaseorAttack', axis=1), df['HeartDiseaseorAttack']\n",
    "X, X_test, y, y_test = train_test_split(X,\n",
    "                                        y,\n",
    "                                        stratify=y,\n",
    "                                        test_size=.2,\n",
    "                                        random_state=21)\n",
    "X_train, X_val, y_train, y_val = train_test_split(X,\n",
    "                                                  y,\n",
    "                                                  stratify=y,\n",
    "                                                  test_size=.25,\n",
    "                                                  random_state=21)"
   ]
  },
  {
   "cell_type": "markdown",
   "id": "d8ccc3d5",
   "metadata": {},
   "source": [
    "## Functions"
   ]
  },
  {
   "cell_type": "markdown",
   "id": "8a4af996",
   "metadata": {},
   "source": [
    "### Scoring Function"
   ]
  },
  {
   "cell_type": "code",
   "execution_count": 14,
   "id": "419eb656",
   "metadata": {},
   "outputs": [],
   "source": [
    "def get_scores(model, test_X, test_y, threshold=0.5):\n",
    "    # function to score model\n",
    "    \n",
    "    # Probability >= 0.5\n",
    "    probs = model.predict_proba(test_X)[:, 1] >= threshold\n",
    "    \n",
    "    model_acc = accuracy_score(test_y, probs)\n",
    "    model_recall = recall_score(test_y, probs)\n",
    "    model_precision = precision_score(test_y, probs)\n",
    "    model_f2 = fbeta_score(test_y, probs, beta=2)\n",
    "    model_brier = brier_score_loss(test_y, 1-probs, pos_label=1)\n",
    "    \n",
    "    # report scores\n",
    "    print('Simple Logistic Regression Accuracy Score: %.3f' % (model_acc))\n",
    "    print('Simple Logistic Regression Recall Score: %.3f' % (model_recall))\n",
    "    print('Simple Logistic Regression Precision Score: %.3f' % (model_precision))\n",
    "    print('Simple Logistic Regression F2 Score: %.3f' % (model_f2))\n",
    "    print('Simple Logistic Regression Brier Score: %.3f' % (model_brier))"
   ]
  },
  {
   "cell_type": "markdown",
   "id": "0e6b1d19",
   "metadata": {},
   "source": [
    "### Confusion Matrix Function"
   ]
  },
  {
   "cell_type": "code",
   "execution_count": 15,
   "id": "a8a87098",
   "metadata": {},
   "outputs": [],
   "source": [
    "def make_cm(model, X_val, y_val, threshold=0.5):\n",
    "    # Predict class 1 if probability of being in class 1 is \n",
    "    # above threshold\n",
    "    y_predict = (model.predict_proba(X_val)[:, 1] >= threshold)\n",
    "    cm = confusion_matrix(y_val, y_predict)\n",
    "    \n",
    "    # Labels to be used on cm\n",
    "    group_names = ['True Neg', 'False Pos', 'False Neg', 'True Pos']\n",
    "    group_counts = [\"{0:0.0f}\".format(value) for value in \n",
    "                    cm.flatten()]\n",
    "    group_percentages = [\"{0:.2%}\".format(value) for value in \n",
    "                         cm.flatten()/np.sum(cm)]\n",
    "    labels = [f'{v1}\\n{v2}\\n{v3}' for v1, v2, v3 in \n",
    "              zip(group_names, group_counts, group_percentages)]\n",
    "    labels = np.asarray(labels).reshape(2,2)\n",
    "    \n",
    "    # Plotting cm\n",
    "    ax = sns.heatmap(cm, annot=labels, fmt='', cmap='Blues')\n",
    "    ax.set_xlabel('Prediction');\n",
    "    ax.set_ylabel('Actual'); \n",
    "    ax.xaxis.set_ticklabels(['0', '1']); \n",
    "    ax.yaxis.set_ticklabels(['0', '1']);"
   ]
  },
  {
   "cell_type": "markdown",
   "id": "915c9d61",
   "metadata": {},
   "source": [
    "### Optimal Threshold Function"
   ]
  },
  {
   "cell_type": "code",
   "execution_count": 16,
   "id": "e483525a",
   "metadata": {},
   "outputs": [],
   "source": [
    "def get_threshold(model, test_X, test_y):\n",
    "\n",
    "    thresh_ps = np.linspace(.05,.90,100)\n",
    "\n",
    "    f1_scores, prec_scores, rec_scores, acc_scores, f2_scores = [], [], [], [], [] \n",
    "\n",
    "    for p in thresh_ps:\n",
    "        lr_model_labels = model.predict_proba(X_val)[:,1] >= p\n",
    "        f1_scores.append(f1_score(y_val, lr_model_labels))\n",
    "        prec_scores.append(precision_score(y_val, lr_model_labels))\n",
    "        rec_scores.append(recall_score(y_val, lr_model_labels))\n",
    "        acc_scores.append(accuracy_score(y_val, lr_model_labels))\n",
    "        f2_scores.append(fbeta_score(y_val, lr_model_labels, beta=2))\n",
    "    \n",
    "    plt.plot(thresh_ps, f1_scores)\n",
    "    plt.plot(thresh_ps, prec_scores)\n",
    "    plt.plot(thresh_ps, rec_scores)\n",
    "    plt.plot(thresh_ps, acc_scores)\n",
    "    plt.plot(thresh_ps, f2_scores)\n",
    "\n",
    "    plt.title('Metric Scores vs. Positive Class Decision Probability Threshold')\n",
    "    plt.legend(['F1', 'Precision', 'Recall', 'Accuracy', 'F2'],loc ='lower right')\n",
    "    plt.xlabel('P threshold')\n",
    "    plt.ylabel('Metric score')\n",
    "\n",
    "    best_f2_score = np.max(f2_scores)\n",
    "    best_thresh_p = thresh_ps[np.argmax(f2_scores)]\n",
    "\n",
    "    print('Logistic Regression Model best F2 score %.3f at prob decision threshold >= %.3f' \n",
    "          % (best_f2_score, best_thresh_p))"
   ]
  },
  {
   "cell_type": "markdown",
   "id": "297bbbdc",
   "metadata": {},
   "source": [
    "### ROC Curve Function"
   ]
  },
  {
   "cell_type": "code",
   "execution_count": 17,
   "id": "0858e1d8",
   "metadata": {},
   "outputs": [],
   "source": [
    "def get_roc(model, test_X, test_y):\n",
    "    # function to plot ROC and get AUC\n",
    "    \n",
    "    # predict probabilities\n",
    "    model_probs = model.predict_proba(test_X)[:, 1]\n",
    "    \n",
    "    # generate no skill prediction\n",
    "    ns_probs = [0 for _ in range(len(test_y))]\n",
    "    \n",
    "    # calculate AUC scores\n",
    "    ns_auc = roc_auc_score(test_y, ns_probs)\n",
    "    model_auc = roc_auc_score(test_y, model_probs)\n",
    "    \n",
    "    # report scores\n",
    "    print('No Skill: ROC AUC=%.3f' % (ns_auc))\n",
    "    print('Logistic: ROC AUC=%.3f' % (model_auc))\n",
    "    \n",
    "    # Calculate the ROC curves\n",
    "    ns_fpr, ns_tpr, _ = roc_curve(test_y, ns_probs)\n",
    "    model_fpr, model_tpr, _ = roc_curve(test_y, model_probs)\n",
    "\n",
    "    # Plot the ROC Curves\n",
    "    plt.plot(ns_fpr, ns_tpr, linestyle='--', label='No Skill')\n",
    "    plt.plot(model_fpr, model_tpr, marker='.', label='Logistic')\n",
    "\n",
    "    # axis labels\n",
    "    plt.xlabel('False Positive Rate')\n",
    "    plt.ylabel('True Positive Rate')\n",
    "\n",
    "    # Show the legend\n",
    "    plt.legend()\n",
    "\n",
    "    # Show the plot\n",
    "    plt.show()"
   ]
  },
  {
   "cell_type": "markdown",
   "id": "74855b43",
   "metadata": {},
   "source": [
    "### Precision-Recall Curve"
   ]
  },
  {
   "cell_type": "code",
   "execution_count": 18,
   "id": "0cab42cc",
   "metadata": {},
   "outputs": [],
   "source": [
    "def get_prc(model, test_X, test_y):\n",
    "    # Function to get the precision-recall curve\n",
    "    \n",
    "    # predict probabilities\n",
    "    model_probs = model.predict_proba(test_X)[:, 1]\n",
    "    \n",
    "    # predict class values\n",
    "    yhat = model.predict(test_X)\n",
    "    model_prec, model_rec, _ = precision_recall_curve(test_y, model_probs)\n",
    "    model_auc = auc(model_rec, model_prec)\n",
    "    \n",
    "    # report scores\n",
    "    print('Logistic: AUC=%.3f' % (model_auc))\n",
    "    \n",
    "    # plot the prc\n",
    "    no_skill = len(test_y[test_y==1]) / len(test_y)\n",
    "    plt.plot([0,1], [no_skill, no_skill], linestyle='--', label='No Skill')\n",
    "    plt.plot(model_rec, model_prec, marker='.', label='Logistic')\n",
    "    \n",
    "    # axis labels\n",
    "    plt.xlabel('Recall')\n",
    "    plt.ylabel('Precision')\n",
    "    \n",
    "    # Show the legend\n",
    "    plt.legend()\n",
    "\n",
    "    # Show the plot\n",
    "    plt.show()"
   ]
  },
  {
   "cell_type": "markdown",
   "id": "e8b95960",
   "metadata": {},
   "source": [
    "### Preprocessor - Column Transformer"
   ]
  },
  {
   "cell_type": "code",
   "execution_count": 19,
   "id": "2cf4bd87",
   "metadata": {},
   "outputs": [],
   "source": [
    "# Continuous Variables\n",
    "numeric_features = ['MentHlth', 'PhysHlth', 'BMI']\n",
    "numeric_transformer = Pipeline(\n",
    "    steps=[('imputer', SimpleImputer(strategy=\"median\")), \n",
    "           ('scaler', StandardScaler())])\n",
    "\n",
    "# Categorical Variables\n",
    "categorical_features = ['Age', 'Education', 'Income', \n",
    "                        'GenHlth', 'Diabetes']\n",
    "\n",
    "# instantiate encoder\n",
    "categorical_transformer = OneHotEncoder(handle_unknown='ignore')\n",
    "\n",
    "# column transformer\n",
    "preprocessor = ColumnTransformer(\n",
    "    transformers=[\n",
    "        ('num', numeric_transformer, numeric_features),\n",
    "        ('cat', categorical_transformer, categorical_features)])"
   ]
  },
  {
   "cell_type": "markdown",
   "id": "28005c71",
   "metadata": {},
   "source": [
    "## Models"
   ]
  },
  {
   "cell_type": "markdown",
   "id": "25b1e579",
   "metadata": {},
   "source": [
    "### Simple Univariate Logistic Regression"
   ]
  },
  {
   "cell_type": "code",
   "execution_count": 20,
   "id": "1a05e23a",
   "metadata": {},
   "outputs": [
    {
     "data": {
      "text/plain": [
       "LogisticRegression(C=1000, solver='liblinear')"
      ]
     },
     "execution_count": 20,
     "metadata": {},
     "output_type": "execute_result"
    }
   ],
   "source": [
    "# instantiate model\n",
    "lm1 = LogisticRegression(C=1000, solver='liblinear')\n",
    "\n",
    "# fit model\n",
    "lm1.fit(X_train[['Smoker']], y_train)"
   ]
  },
  {
   "cell_type": "code",
   "execution_count": 21,
   "id": "2c6651a7",
   "metadata": {},
   "outputs": [
    {
     "name": "stdout",
     "output_type": "stream",
     "text": [
      "Simple Logistic Regression Accuracy Score: 0.906\n",
      "Simple Logistic Regression Recall Score: 0.000\n",
      "Simple Logistic Regression Precision Score: 0.000\n",
      "Simple Logistic Regression F2 Score: 0.000\n",
      "Simple Logistic Regression Brier Score: 0.906\n"
     ]
    },
    {
     "name": "stderr",
     "output_type": "stream",
     "text": [
      "/opt/anaconda3/lib/python3.8/site-packages/sklearn/metrics/_classification.py:1308: UndefinedMetricWarning: Precision is ill-defined and being set to 0.0 due to no predicted samples. Use `zero_division` parameter to control this behavior.\n",
      "  _warn_prf(average, modifier, msg_start, len(result))\n"
     ]
    }
   ],
   "source": [
    "# score model\n",
    "get_scores(lm1, X_val[['Smoker']], y_val)"
   ]
  },
  {
   "cell_type": "code",
   "execution_count": 22,
   "id": "6db85b43",
   "metadata": {},
   "outputs": [
    {
     "data": {
      "image/png": "[encoded data removed]",
      "text/plain": [
       "<Figure size 432x288 with 2 Axes>"
      ]
     },
     "metadata": {
      "needs_background": "light"
     },
     "output_type": "display_data"
    }
   ],
   "source": [
    "# confusion matrix\n",
    "make_cm(lm1, X_val[['Smoker']], y_val)"
   ]
  },
  {
   "cell_type": "code",
   "execution_count": 23,
   "id": "f977461d",
   "metadata": {},
   "outputs": [
    {
     "name": "stdout",
     "output_type": "stream",
     "text": [
      "No Skill: ROC AUC=0.500\n",
      "Logistic: ROC AUC=0.605\n"
     ]
    },
    {
     "data": {
      "image/png": "[encoded data removed]",
      "text/plain": [
       "<Figure size 432x288 with 1 Axes>"
      ]
     },
     "metadata": {
      "needs_background": "light"
     },
     "output_type": "display_data"
    }
   ],
   "source": [
    "# ROC Curve & AUC scores\n",
    "get_roc(lm1, X_val[['Smoker']], y_val)"
   ]
  },
  {
   "cell_type": "code",
   "execution_count": 24,
   "id": "6464568a",
   "metadata": {
    "scrolled": true
   },
   "outputs": [
    {
     "name": "stdout",
     "output_type": "stream",
     "text": [
      "Logistic: AUC=0.401\n"
     ]
    },
    {
     "data": {
      "image/png": "[encoded data removed]",
      "text/plain": [
       "<Figure size 432x288 with 1 Axes>"
      ]
     },
     "metadata": {
      "needs_background": "light"
     },
     "output_type": "display_data"
    }
   ],
   "source": [
    "# PRC & AUC scores\n",
    "get_prc(lm1, X_val[['Smoker']], y_val)"
   ]
  },
  {
   "cell_type": "markdown",
   "id": "cc51e789",
   "metadata": {},
   "source": [
    "### Simple Logistic Regression w/ Scaled Data"
   ]
  },
  {
   "cell_type": "code",
   "execution_count": 25,
   "id": "94d27613",
   "metadata": {},
   "outputs": [],
   "source": [
    "# instantiate model with column transformer\n",
    "lm2 = Pipeline(steps=[('preprocessor', preprocessor), \n",
    "                      ('classifier', LogisticRegression(solver='liblinear'))])"
   ]
  },
  {
   "cell_type": "code",
   "execution_count": 26,
   "id": "734fd7d8",
   "metadata": {},
   "outputs": [
    {
     "data": {
      "text/plain": [
       "Pipeline(steps=[('preprocessor',\n",
       "                 ColumnTransformer(transformers=[('num',\n",
       "                                                  Pipeline(steps=[('imputer',\n",
       "                                                                   SimpleImputer(strategy='median')),\n",
       "                                                                  ('scaler',\n",
       "                                                                   StandardScaler())]),\n",
       "                                                  ['MentHlth', 'PhysHlth',\n",
       "                                                   'BMI']),\n",
       "                                                 ('cat',\n",
       "                                                  OneHotEncoder(handle_unknown='ignore'),\n",
       "                                                  ['Age', 'Education', 'Income',\n",
       "                                                   'GenHlth', 'Diabetes'])])),\n",
       "                ('classifier', LogisticRegression(solver='liblinear'))])"
      ]
     },
     "execution_count": 26,
     "metadata": {},
     "output_type": "execute_result"
    }
   ],
   "source": [
    "# fit training data\n",
    "lm2.fit(X_train, y_train)"
   ]
  },
  {
   "cell_type": "code",
   "execution_count": 27,
   "id": "f43fdb68",
   "metadata": {},
   "outputs": [
    {
     "name": "stdout",
     "output_type": "stream",
     "text": [
      "Simple Logistic Regression Accuracy Score: 0.905\n",
      "Simple Logistic Regression Recall Score: 0.045\n",
      "Simple Logistic Regression Precision Score: 0.474\n",
      "Simple Logistic Regression F2 Score: 0.055\n",
      "Simple Logistic Regression Brier Score: 0.905\n"
     ]
    }
   ],
   "source": [
    "# evaluate validation set\n",
    "get_scores(lm2, X_val, y_val)"
   ]
  },
  {
   "cell_type": "code",
   "execution_count": 28,
   "id": "ad7a2820",
   "metadata": {},
   "outputs": [
    {
     "data": {
      "image/png": "[encoded data removed]",
      "text/plain": [
       "<Figure size 432x288 with 2 Axes>"
      ]
     },
     "metadata": {
      "needs_background": "light"
     },
     "output_type": "display_data"
    }
   ],
   "source": [
    "# confusion matrix for validation set\n",
    "make_cm(lm2, X_val, y_val)"
   ]
  },
  {
   "cell_type": "code",
   "execution_count": 29,
   "id": "6b29604d",
   "metadata": {},
   "outputs": [
    {
     "name": "stderr",
     "output_type": "stream",
     "text": [
      "/opt/anaconda3/lib/python3.8/site-packages/sklearn/metrics/_classification.py:1308: UndefinedMetricWarning: Precision is ill-defined and being set to 0.0 due to no predicted samples. Use `zero_division` parameter to control this behavior.\n",
      "  _warn_prf(average, modifier, msg_start, len(result))\n",
      "/opt/anaconda3/lib/python3.8/site-packages/sklearn/metrics/_classification.py:1308: UndefinedMetricWarning: Precision is ill-defined and being set to 0.0 due to no predicted samples. Use `zero_division` parameter to control this behavior.\n",
      "  _warn_prf(average, modifier, msg_start, len(result))\n",
      "/opt/anaconda3/lib/python3.8/site-packages/sklearn/metrics/_classification.py:1308: UndefinedMetricWarning: Precision is ill-defined and being set to 0.0 due to no predicted samples. Use `zero_division` parameter to control this behavior.\n",
      "  _warn_prf(average, modifier, msg_start, len(result))\n",
      "/opt/anaconda3/lib/python3.8/site-packages/sklearn/metrics/_classification.py:1308: UndefinedMetricWarning: Precision is ill-defined and being set to 0.0 due to no predicted samples. Use `zero_division` parameter to control this behavior.\n",
      "  _warn_prf(average, modifier, msg_start, len(result))\n",
      "/opt/anaconda3/lib/python3.8/site-packages/sklearn/metrics/_classification.py:1308: UndefinedMetricWarning: Precision is ill-defined and being set to 0.0 due to no predicted samples. Use `zero_division` parameter to control this behavior.\n",
      "  _warn_prf(average, modifier, msg_start, len(result))\n",
      "/opt/anaconda3/lib/python3.8/site-packages/sklearn/metrics/_classification.py:1308: UndefinedMetricWarning: Precision is ill-defined and being set to 0.0 due to no predicted samples. Use `zero_division` parameter to control this behavior.\n",
      "  _warn_prf(average, modifier, msg_start, len(result))\n",
      "/opt/anaconda3/lib/python3.8/site-packages/sklearn/metrics/_classification.py:1308: UndefinedMetricWarning: Precision is ill-defined and being set to 0.0 due to no predicted samples. Use `zero_division` parameter to control this behavior.\n",
      "  _warn_prf(average, modifier, msg_start, len(result))\n",
      "/opt/anaconda3/lib/python3.8/site-packages/sklearn/metrics/_classification.py:1308: UndefinedMetricWarning: Precision is ill-defined and being set to 0.0 due to no predicted samples. Use `zero_division` parameter to control this behavior.\n",
      "  _warn_prf(average, modifier, msg_start, len(result))\n",
      "/opt/anaconda3/lib/python3.8/site-packages/sklearn/metrics/_classification.py:1308: UndefinedMetricWarning: Precision is ill-defined and being set to 0.0 due to no predicted samples. Use `zero_division` parameter to control this behavior.\n",
      "  _warn_prf(average, modifier, msg_start, len(result))\n",
      "/opt/anaconda3/lib/python3.8/site-packages/sklearn/metrics/_classification.py:1308: UndefinedMetricWarning: Precision is ill-defined and being set to 0.0 due to no predicted samples. Use `zero_division` parameter to control this behavior.\n",
      "  _warn_prf(average, modifier, msg_start, len(result))\n",
      "/opt/anaconda3/lib/python3.8/site-packages/sklearn/metrics/_classification.py:1308: UndefinedMetricWarning: Precision is ill-defined and being set to 0.0 due to no predicted samples. Use `zero_division` parameter to control this behavior.\n",
      "  _warn_prf(average, modifier, msg_start, len(result))\n",
      "/opt/anaconda3/lib/python3.8/site-packages/sklearn/metrics/_classification.py:1308: UndefinedMetricWarning: Precision is ill-defined and being set to 0.0 due to no predicted samples. Use `zero_division` parameter to control this behavior.\n",
      "  _warn_prf(average, modifier, msg_start, len(result))\n",
      "/opt/anaconda3/lib/python3.8/site-packages/sklearn/metrics/_classification.py:1308: UndefinedMetricWarning: Precision is ill-defined and being set to 0.0 due to no predicted samples. Use `zero_division` parameter to control this behavior.\n",
      "  _warn_prf(average, modifier, msg_start, len(result))\n",
      "/opt/anaconda3/lib/python3.8/site-packages/sklearn/metrics/_classification.py:1308: UndefinedMetricWarning: Precision is ill-defined and being set to 0.0 due to no predicted samples. Use `zero_division` parameter to control this behavior.\n",
      "  _warn_prf(average, modifier, msg_start, len(result))\n",
      "/opt/anaconda3/lib/python3.8/site-packages/sklearn/metrics/_classification.py:1308: UndefinedMetricWarning: Precision is ill-defined and being set to 0.0 due to no predicted samples. Use `zero_division` parameter to control this behavior.\n",
      "  _warn_prf(average, modifier, msg_start, len(result))\n",
      "/opt/anaconda3/lib/python3.8/site-packages/sklearn/metrics/_classification.py:1308: UndefinedMetricWarning: Precision is ill-defined and being set to 0.0 due to no predicted samples. Use `zero_division` parameter to control this behavior.\n",
      "  _warn_prf(average, modifier, msg_start, len(result))\n",
      "/opt/anaconda3/lib/python3.8/site-packages/sklearn/metrics/_classification.py:1308: UndefinedMetricWarning: Precision is ill-defined and being set to 0.0 due to no predicted samples. Use `zero_division` parameter to control this behavior.\n",
      "  _warn_prf(average, modifier, msg_start, len(result))\n",
      "/opt/anaconda3/lib/python3.8/site-packages/sklearn/metrics/_classification.py:1308: UndefinedMetricWarning: Precision is ill-defined and being set to 0.0 due to no predicted samples. Use `zero_division` parameter to control this behavior.\n",
      "  _warn_prf(average, modifier, msg_start, len(result))\n",
      "/opt/anaconda3/lib/python3.8/site-packages/sklearn/metrics/_classification.py:1308: UndefinedMetricWarning: Precision is ill-defined and being set to 0.0 due to no predicted samples. Use `zero_division` parameter to control this behavior.\n",
      "  _warn_prf(average, modifier, msg_start, len(result))\n",
      "/opt/anaconda3/lib/python3.8/site-packages/sklearn/metrics/_classification.py:1308: UndefinedMetricWarning: Precision is ill-defined and being set to 0.0 due to no predicted samples. Use `zero_division` parameter to control this behavior.\n",
      "  _warn_prf(average, modifier, msg_start, len(result))\n",
      "/opt/anaconda3/lib/python3.8/site-packages/sklearn/metrics/_classification.py:1308: UndefinedMetricWarning: Precision is ill-defined and being set to 0.0 due to no predicted samples. Use `zero_division` parameter to control this behavior.\n",
      "  _warn_prf(average, modifier, msg_start, len(result))\n",
      "/opt/anaconda3/lib/python3.8/site-packages/sklearn/metrics/_classification.py:1308: UndefinedMetricWarning: Precision is ill-defined and being set to 0.0 due to no predicted samples. Use `zero_division` parameter to control this behavior.\n",
      "  _warn_prf(average, modifier, msg_start, len(result))\n",
      "/opt/anaconda3/lib/python3.8/site-packages/sklearn/metrics/_classification.py:1308: UndefinedMetricWarning: Precision is ill-defined and being set to 0.0 due to no predicted samples. Use `zero_division` parameter to control this behavior.\n",
      "  _warn_prf(average, modifier, msg_start, len(result))\n",
      "/opt/anaconda3/lib/python3.8/site-packages/sklearn/metrics/_classification.py:1308: UndefinedMetricWarning: Precision is ill-defined and being set to 0.0 due to no predicted samples. Use `zero_division` parameter to control this behavior.\n",
      "  _warn_prf(average, modifier, msg_start, len(result))\n"
     ]
    },
    {
     "name": "stdout",
     "output_type": "stream",
     "text": [
      "Logistic Regression Model best F2 score 0.505 at prob decision threshold >= 0.110\n"
     ]
    },
    {
     "data": {
      "image/png": "[encoded data removed]",
      "text/plain": [
       "<Figure size 432x288 with 1 Axes>"
      ]
     },
     "metadata": {
      "needs_background": "light"
     },
     "output_type": "display_data"
    }
   ],
   "source": [
    "# determine best threshold\n",
    "get_threshold(lm2, X_val, y_val)"
   ]
  },
  {
   "cell_type": "code",
   "execution_count": 30,
   "id": "1056fb23",
   "metadata": {},
   "outputs": [
    {
     "name": "stdout",
     "output_type": "stream",
     "text": [
      "Simple Logistic Regression Accuracy Score: 0.749\n",
      "Simple Logistic Regression Recall Score: 0.716\n",
      "Simple Logistic Regression Precision Score: 0.231\n",
      "Simple Logistic Regression F2 Score: 0.505\n",
      "Simple Logistic Regression Brier Score: 0.749\n"
     ]
    }
   ],
   "source": [
    "get_scores(lm2, X_val, y_val, threshold=.110)"
   ]
  },
  {
   "cell_type": "code",
   "execution_count": 31,
   "id": "30afba1f",
   "metadata": {},
   "outputs": [
    {
     "data": {
      "image/png": "[encoded data removed]",
      "text/plain": [
       "<Figure size 432x288 with 2 Axes>"
      ]
     },
     "metadata": {
      "needs_background": "light"
     },
     "output_type": "display_data"
    }
   ],
   "source": [
    "make_cm(lm2, X_val, y_val, threshold=.110)"
   ]
  },
  {
   "cell_type": "code",
   "execution_count": 32,
   "id": "b22bda44",
   "metadata": {},
   "outputs": [
    {
     "name": "stdout",
     "output_type": "stream",
     "text": [
      "No Skill: ROC AUC=0.500\n",
      "Logistic: ROC AUC=0.811\n"
     ]
    },
    {
     "data": {
      "image/png": "[encoded data removed]",
      "text/plain": [
       "<Figure size 432x288 with 1 Axes>"
      ]
     },
     "metadata": {
      "needs_background": "light"
     },
     "output_type": "display_data"
    }
   ],
   "source": [
    "# ROC curve\n",
    "get_roc(lm2, X_val, y_val)"
   ]
  },
  {
   "cell_type": "code",
   "execution_count": 33,
   "id": "3fd3f7da",
   "metadata": {},
   "outputs": [
    {
     "name": "stdout",
     "output_type": "stream",
     "text": [
      "Logistic: AUC=0.300\n"
     ]
    },
    {
     "data": {
      "image/png": "[encoded data removed]",
      "text/plain": [
       "<Figure size 432x288 with 1 Axes>"
      ]
     },
     "metadata": {
      "needs_background": "light"
     },
     "output_type": "display_data"
    }
   ],
   "source": [
    "# precision recall curve\n",
    "get_prc(lm2, X_val, y_val)"
   ]
  },
  {
   "cell_type": "markdown",
   "id": "5e0fa9b1",
   "metadata": {},
   "source": [
    "## Optimize Hyperparameters"
   ]
  },
  {
   "cell_type": "markdown",
   "id": "9d577529",
   "metadata": {},
   "source": [
    "### Regularization - C\n",
    "{'classifier__C': 10}"
   ]
  },
  {
   "cell_type": "code",
   "execution_count": 34,
   "id": "96a3dcc8",
   "metadata": {},
   "outputs": [],
   "source": [
    "# Set up parameters for GridSearch\n",
    "param_grid = {'classifier__C': [0.1, 1.0, 10, 100]}\n",
    "cv = StratifiedKFold(n_splits=5, shuffle=True, random_state=21)\n",
    "f2_scorer = make_scorer(fbeta_score, beta=2)\n",
    "\n",
    "lm3 = Pipeline(\n",
    "    steps=[('preprocessor', preprocessor), ('classifier', LogisticRegression(solver='liblinear'))])\n",
    "\n",
    "grid_search = GridSearchCV(lm3, param_grid, cv=cv, n_jobs=-1, scoring=f2_scorer)"
   ]
  },
  {
   "cell_type": "code",
   "execution_count": 35,
   "id": "a1725bbe",
   "metadata": {},
   "outputs": [
    {
     "name": "stdout",
     "output_type": "stream",
     "text": [
      "Best params:\n",
      "{'classifier__C': 10}\n"
     ]
    }
   ],
   "source": [
    "grid_search.fit(X, y)\n",
    "print(\"Best params:\")\n",
    "print(grid_search.best_params_)"
   ]
  },
  {
   "cell_type": "markdown",
   "id": "5c1b2dad",
   "metadata": {},
   "source": [
    "### Class Weights\n",
    "{'classifier__class_weight': {0: 0.09, 1: 0.91}}"
   ]
  },
  {
   "cell_type": "code",
   "execution_count": 37,
   "id": "9f3af7e0",
   "metadata": {},
   "outputs": [],
   "source": [
    "# instantiate model\n",
    "lm4 = Pipeline(\n",
    "    steps=[('preprocessor', preprocessor), \n",
    "           ('classifier', LogisticRegression(C=10, solver='liblinear'))])\n",
    "\n",
    "# Set up parameters for GridSearch\n",
    "weights = np.linspace(0.0, 0.99, 100)\n",
    "param_grid = {'classifier__class_weight': \n",
    "              [{0:x, 1:1.0-x} for x in weights]}\n",
    "cv = StratifiedKFold(n_splits=5, shuffle=True, random_state=21)\n",
    "f2_scorer = make_scorer(fbeta_score, beta=2)\n",
    "\n",
    "# GridSearch\n",
    "lm4_grid_search = GridSearchCV(lm3, param_grid, cv=cv, n_jobs=-1, \n",
    "                           scoring=f2_scorer)"
   ]
  },
  {
   "cell_type": "code",
   "execution_count": 38,
   "id": "76867842",
   "metadata": {},
   "outputs": [
    {
     "name": "stdout",
     "output_type": "stream",
     "text": [
      "Best params:\n",
      "{'classifier__class_weight': {0: 0.09, 1: 0.91}}\n"
     ]
    }
   ],
   "source": [
    "# fit data on gridsearch\n",
    "lm4_grid_search.fit(X, y)\n",
    "\n",
    "# print results\n",
    "print(\"Best params:\")\n",
    "print(lm4_grid_search.best_params_)"
   ]
  },
  {
   "cell_type": "markdown",
   "id": "16787434",
   "metadata": {},
   "source": [
    "### Logistic Regression w/ Optimized Hyperparameters\n",
    "- {'classifier__class_weight': {0: 0.09, 1: 0.91}}\n",
    "- {'classifier__C': 10}"
   ]
  },
  {
   "cell_type": "code",
   "execution_count": 39,
   "id": "6163391d",
   "metadata": {},
   "outputs": [],
   "source": [
    "# instantiate logistic regression model with scaled data, class weights, and regularization\n",
    "lm5 = Pipeline(steps=[('preprocessor', preprocessor), \n",
    "                      ('classifier', LogisticRegression(class_weight={0: 0.08457286432160804, 1: 0.915427135678392}, \n",
    "                                                        C=10, solver='liblinear'))])"
   ]
  },
  {
   "cell_type": "code",
   "execution_count": 40,
   "id": "3ae80421",
   "metadata": {},
   "outputs": [
    {
     "data": {
      "text/plain": [
       "Pipeline(steps=[('preprocessor',\n",
       "                 ColumnTransformer(transformers=[('num',\n",
       "                                                  Pipeline(steps=[('imputer',\n",
       "                                                                   SimpleImputer(strategy='median')),\n",
       "                                                                  ('scaler',\n",
       "                                                                   StandardScaler())]),\n",
       "                                                  ['MentHlth', 'PhysHlth',\n",
       "                                                   'BMI']),\n",
       "                                                 ('cat',\n",
       "                                                  OneHotEncoder(handle_unknown='ignore'),\n",
       "                                                  ['Age', 'Education', 'Income',\n",
       "                                                   'GenHlth', 'Diabetes'])])),\n",
       "                ('classifier',\n",
       "                 LogisticRegression(C=10,\n",
       "                                    class_weight={0: 0.08457286432160804,\n",
       "                                                  1: 0.915427135678392},\n",
       "                                    solver='liblinear'))])"
      ]
     },
     "execution_count": 40,
     "metadata": {},
     "output_type": "execute_result"
    }
   ],
   "source": [
    "# fit validation set\n",
    "lm5.fit(X_val, y_val)"
   ]
  },
  {
   "cell_type": "code",
   "execution_count": 41,
   "id": "8b9548f0",
   "metadata": {},
   "outputs": [
    {
     "name": "stdout",
     "output_type": "stream",
     "text": [
      "Simple Logistic Regression Accuracy Score: 0.694\n",
      "Simple Logistic Regression Recall Score: 0.794\n",
      "Simple Logistic Regression Precision Score: 0.207\n",
      "Simple Logistic Regression F2 Score: 0.506\n",
      "Simple Logistic Regression Brier Score: 0.694\n"
     ]
    }
   ],
   "source": [
    "# validation set scores\n",
    "get_scores(lm5, X_val, y_val)"
   ]
  },
  {
   "cell_type": "code",
   "execution_count": 42,
   "id": "403a599d",
   "metadata": {},
   "outputs": [
    {
     "name": "stdout",
     "output_type": "stream",
     "text": [
      "Logistic Regression Model best F2 score 0.507 at prob decision threshold >= 0.514\n"
     ]
    },
    {
     "data": {
      "image/png": "[encoded data removed]",
      "text/plain": [
       "<Figure size 432x288 with 1 Axes>"
      ]
     },
     "metadata": {
      "needs_background": "light"
     },
     "output_type": "display_data"
    }
   ],
   "source": [
    "# optimal threshold \n",
    "get_threshold(lm5, X_val, y_val)"
   ]
  },
  {
   "cell_type": "code",
   "execution_count": 43,
   "id": "4ef5b6ba",
   "metadata": {},
   "outputs": [
    {
     "data": {
      "image/png": "[encoded data removed]",
      "text/plain": [
       "<Figure size 432x288 with 2 Axes>"
      ]
     },
     "metadata": {
      "needs_background": "light"
     },
     "output_type": "display_data"
    }
   ],
   "source": [
    "# confusion matrix validation set\n",
    "make_cm(lm5, X_val, y_val, 0.514)"
   ]
  },
  {
   "cell_type": "code",
   "execution_count": 44,
   "id": "322cea93",
   "metadata": {},
   "outputs": [
    {
     "name": "stdout",
     "output_type": "stream",
     "text": [
      "No Skill: ROC AUC=0.500\n",
      "Logistic: ROC AUC=0.812\n"
     ]
    },
    {
     "data": {
      "image/png": "[encoded data removed]",
      "text/plain": [
       "<Figure size 432x288 with 1 Axes>"
      ]
     },
     "metadata": {
      "needs_background": "light"
     },
     "output_type": "display_data"
    }
   ],
   "source": [
    "# ROC curve\n",
    "get_roc(lm5, X_val, y_val)"
   ]
  },
  {
   "cell_type": "code",
   "execution_count": 45,
   "id": "e4494648",
   "metadata": {},
   "outputs": [
    {
     "name": "stdout",
     "output_type": "stream",
     "text": [
      "Logistic: AUC=0.297\n"
     ]
    },
    {
     "data": {
      "image/png": "[encoded data removed]",
      "text/plain": [
       "<Figure size 432x288 with 1 Axes>"
      ]
     },
     "metadata": {
      "needs_background": "light"
     },
     "output_type": "display_data"
    }
   ],
   "source": [
    "# get prc\n",
    "get_prc(lm5, X_val, y_val)"
   ]
  },
  {
   "cell_type": "markdown",
   "id": "c5a037bf",
   "metadata": {},
   "source": [
    "## Final Model\n",
    "### Logistic Regression w/ scaling, class weights, & regularization fit on train & validation sets"
   ]
  },
  {
   "cell_type": "code",
   "execution_count": 46,
   "id": "54441d62",
   "metadata": {},
   "outputs": [],
   "source": [
    "# instantiate model\n",
    "lm5_2 = Pipeline(steps=[('preprocessor', preprocessor), \n",
    "                      ('classifier', LogisticRegression(class_weight={0: 0.08457286432160804, 1: 0.915427135678392}, \n",
    "                                                        C=10, solver='liblinear'))])"
   ]
  },
  {
   "cell_type": "code",
   "execution_count": 47,
   "id": "8dc3fe5b",
   "metadata": {},
   "outputs": [
    {
     "data": {
      "text/plain": [
       "Pipeline(steps=[('preprocessor',\n",
       "                 ColumnTransformer(transformers=[('num',\n",
       "                                                  Pipeline(steps=[('imputer',\n",
       "                                                                   SimpleImputer(strategy='median')),\n",
       "                                                                  ('scaler',\n",
       "                                                                   StandardScaler())]),\n",
       "                                                  ['MentHlth', 'PhysHlth',\n",
       "                                                   'BMI']),\n",
       "                                                 ('cat',\n",
       "                                                  OneHotEncoder(handle_unknown='ignore'),\n",
       "                                                  ['Age', 'Education', 'Income',\n",
       "                                                   'GenHlth', 'Diabetes'])])),\n",
       "                ('classifier',\n",
       "                 LogisticRegression(C=10,\n",
       "                                    class_weight={0: 0.08457286432160804,\n",
       "                                                  1: 0.915427135678392},\n",
       "                                    solver='liblinear'))])"
      ]
     },
     "execution_count": 47,
     "metadata": {},
     "output_type": "execute_result"
    }
   ],
   "source": [
    "# fit data on full training and validation set\n",
    "lm5_2.fit(X, y)"
   ]
  },
  {
   "cell_type": "code",
   "execution_count": 48,
   "id": "b4adafee",
   "metadata": {},
   "outputs": [
    {
     "name": "stdout",
     "output_type": "stream",
     "text": [
      "Simple Logistic Regression Accuracy Score: 0.700\n",
      "Simple Logistic Regression Recall Score: 0.792\n",
      "Simple Logistic Regression Precision Score: 0.210\n",
      "Simple Logistic Regression F2 Score: 0.510\n",
      "Simple Logistic Regression Brier Score: 0.700\n"
     ]
    }
   ],
   "source": [
    "# score data on test (hold out) set\n",
    "get_scores(lm5_2, X_test, y_test)"
   ]
  },
  {
   "cell_type": "code",
   "execution_count": 131,
   "id": "6ac31721",
   "metadata": {},
   "outputs": [
    {
     "name": "stdout",
     "output_type": "stream",
     "text": [
      "Logistic Regression Model best F2 score 0.506 at prob decision threshold >= 0.496\n"
     ]
    },
    {
     "data": {
      "image/png": "[encoded data removed]",
      "text/plain": [
       "<Figure size 432x288 with 1 Axes>"
      ]
     },
     "metadata": {
      "needs_background": "light"
     },
     "output_type": "display_data"
    }
   ],
   "source": [
    "get_threshold(lm5_2, X_test, y_test)"
   ]
  },
  {
   "cell_type": "code",
   "execution_count": 132,
   "id": "5f297b21",
   "metadata": {},
   "outputs": [
    {
     "data": {
      "image/png": "[encoded data removed]",
      "text/plain": [
       "<Figure size 432x288 with 2 Axes>"
      ]
     },
     "metadata": {
      "needs_background": "light"
     },
     "output_type": "display_data"
    }
   ],
   "source": [
    "# confusion matrix at threshold p>=0.5\n",
    "make_cm(lm5_2, X_test, y_test)"
   ]
  },
  {
   "cell_type": "code",
   "execution_count": 217,
   "id": "0d48152a",
   "metadata": {},
   "outputs": [
    {
     "data": {
      "image/png": "[encoded data removed]",
      "text/plain": [
       "<Figure size 432x288 with 2 Axes>"
      ]
     },
     "metadata": {
      "needs_background": "light"
     },
     "output_type": "display_data"
    }
   ],
   "source": [
    "# confusion matrix at threshold p>=0.25\n",
    "make_cm(lm5_2, X_test, y_test, 0.25)"
   ]
  },
  {
   "cell_type": "code",
   "execution_count": 218,
   "id": "5aa6d256",
   "metadata": {},
   "outputs": [
    {
     "data": {
      "image/png": "[encoded data removed]",
      "text/plain": [
       "<Figure size 432x288 with 2 Axes>"
      ]
     },
     "metadata": {
      "needs_background": "light"
     },
     "output_type": "display_data"
    }
   ],
   "source": [
    "# confusion matrix at threshold p>=0.75\n",
    "make_cm(lm5_2, X_test, y_test, 0.75)"
   ]
  },
  {
   "cell_type": "code",
   "execution_count": 133,
   "id": "f3fc3645",
   "metadata": {},
   "outputs": [
    {
     "name": "stdout",
     "output_type": "stream",
     "text": [
      "No Skill: ROC AUC=0.500\n",
      "Logistic: ROC AUC=0.8\n"
     ]
    },
    {
     "data": {
      "image/png": "[encoded data removed]",
      "text/plain": [
       "<Figure size 432x288 with 1 Axes>"
      ]
     },
     "metadata": {
      "needs_background": "light"
     },
     "output_type": "display_data"
    }
   ],
   "source": [
    "# ROC curve\n",
    "get_roc(lm5_2, X_test, y_test)"
   ]
  },
  {
   "cell_type": "code",
   "execution_count": 134,
   "id": "310a5bc6",
   "metadata": {},
   "outputs": [
    {
     "name": "stdout",
     "output_type": "stream",
     "text": [
      "Logistic: AUC=0.300\n"
     ]
    },
    {
     "data": {
      "image/png": "[encoded data removed]",
      "text/plain": [
       "<Figure size 432x288 with 1 Axes>"
      ]
     },
     "metadata": {
      "needs_background": "light"
     },
     "output_type": "display_data"
    }
   ],
   "source": [
    "# PRC\n",
    "get_prc(lm5_2, X_test, y_test)"
   ]
  },
  {
   "cell_type": "markdown",
   "id": "d00ae7c4",
   "metadata": {},
   "source": [
    "## Models for comparison, not used in final model"
   ]
  },
  {
   "cell_type": "markdown",
   "id": "d0b0ab44",
   "metadata": {},
   "source": [
    "## Oversampling"
   ]
  },
  {
   "cell_type": "code",
   "execution_count": 70,
   "id": "949b70c0",
   "metadata": {},
   "outputs": [],
   "source": [
    "# Scale data\n",
    "X_train_sc = preprocessor.fit_transform(X_train)\n",
    "X_val_sc = preprocessor.transform(X_val)\n",
    "X_test_sc = preprocessor.transform(X_test)"
   ]
  },
  {
   "cell_type": "code",
   "execution_count": 193,
   "id": "5fb5ae6a",
   "metadata": {},
   "outputs": [],
   "source": [
    "sc_X = preprocessor.fit_transform(X)\n",
    "sc_X_test = preprocessor.transform(X_test)"
   ]
  },
  {
   "cell_type": "code",
   "execution_count": 195,
   "id": "2b160ab4",
   "metadata": {},
   "outputs": [],
   "source": [
    "ROS = imblearn.over_sampling.RandomOverSampler(random_state=21)\n",
    "X_tr_os, y_tr_os = ROS.fit_resample(sc_X, y)"
   ]
  },
  {
   "cell_type": "code",
   "execution_count": 196,
   "id": "addde983",
   "metadata": {},
   "outputs": [
    {
     "data": {
      "text/plain": [
       "LogisticRegression(C=10, solver='liblinear')"
      ]
     },
     "execution_count": 196,
     "metadata": {},
     "output_type": "execute_result"
    }
   ],
   "source": [
    "lm6 = LogisticRegression(solver='liblinear', C=10)\n",
    "lm6.fit(X_tr_os, y_tr_os)"
   ]
  },
  {
   "cell_type": "code",
   "execution_count": 189,
   "id": "dd45c779",
   "metadata": {},
   "outputs": [
    {
     "name": "stdout",
     "output_type": "stream",
     "text": [
      "Simple Logistic Regression Accuracy Score: 0.725\n",
      "Simple Logistic Regression Recall Score: 0.750\n",
      "Simple Logistic Regression Precision Score: 0.219\n",
      "Simple Logistic Regression F2 Score: 0.505\n",
      "Simple Logistic Regression Brier Score: 0.725\n"
     ]
    }
   ],
   "source": [
    "get_scores(lm6, X_val_sc, y_val)"
   ]
  },
  {
   "cell_type": "code",
   "execution_count": 158,
   "id": "f6d6fe8e",
   "metadata": {},
   "outputs": [
    {
     "data": {
      "image/png": "[encoded data removed]",
      "text/plain": [
       "<Figure size 432x288 with 2 Axes>"
      ]
     },
     "metadata": {
      "needs_background": "light"
     },
     "output_type": "display_data"
    }
   ],
   "source": [
    "make_cm(lm6, X_val_sc, y_val)"
   ]
  },
  {
   "cell_type": "code",
   "execution_count": 159,
   "id": "947ab918",
   "metadata": {},
   "outputs": [
    {
     "name": "stdout",
     "output_type": "stream",
     "text": [
      "No Skill: ROC AUC=0.500\n",
      "Logistic: ROC AUC=0.8\n"
     ]
    },
    {
     "data": {
      "image/png": "[encoded data removed]",
      "text/plain": [
       "<Figure size 432x288 with 1 Axes>"
      ]
     },
     "metadata": {
      "needs_background": "light"
     },
     "output_type": "display_data"
    }
   ],
   "source": [
    "get_roc(lm6, X_val_sc, y_val)"
   ]
  },
  {
   "cell_type": "code",
   "execution_count": 160,
   "id": "ce22ca99",
   "metadata": {},
   "outputs": [
    {
     "name": "stdout",
     "output_type": "stream",
     "text": [
      "Logistic: AUC=0.298\n"
     ]
    },
    {
     "data": {
      "image/png": "[encoded data removed]",
      "text/plain": [
       "<Figure size 432x288 with 1 Axes>"
      ]
     },
     "metadata": {
      "needs_background": "light"
     },
     "output_type": "display_data"
    }
   ],
   "source": [
    "get_prc(lm6, X_val_sc, y_val)"
   ]
  },
  {
   "cell_type": "code",
   "execution_count": 197,
   "id": "6a6ef445",
   "metadata": {},
   "outputs": [
    {
     "name": "stdout",
     "output_type": "stream",
     "text": [
      "Simple Logistic Regression Accuracy Score: 0.722\n",
      "Simple Logistic Regression Recall Score: 0.758\n",
      "Simple Logistic Regression Precision Score: 0.219\n",
      "Simple Logistic Regression F2 Score: 0.508\n",
      "Simple Logistic Regression Brier Score: 0.722\n"
     ]
    }
   ],
   "source": [
    "get_scores(lm6, sc_X_test, y_test)"
   ]
  },
  {
   "cell_type": "markdown",
   "id": "6fb9f93a",
   "metadata": {},
   "source": [
    "### SMOTE Oversampling"
   ]
  },
  {
   "cell_type": "code",
   "execution_count": 148,
   "id": "1e9e3567",
   "metadata": {},
   "outputs": [],
   "source": [
    "smote = imblearn.over_sampling.SMOTE(random_state = 21)\n",
    "X_tr_smote, y_tr_smote = smote.fit_resample(X_train_sc, y_train)    "
   ]
  },
  {
   "cell_type": "code",
   "execution_count": 146,
   "id": "e0be0674",
   "metadata": {},
   "outputs": [],
   "source": [
    "smote = imblearn.over_sampling.SMOTE(sampling_strategy=ratio, \n",
    "                                     random_state = 21)\n",
    "X_tr_smote, y_tr_smote = smote.fit_resample(X_train_sc, y_train)    "
   ]
  },
  {
   "cell_type": "code",
   "execution_count": 149,
   "id": "0e40f875",
   "metadata": {},
   "outputs": [
    {
     "data": {
      "text/plain": [
       "LogisticRegression(C=10, solver='liblinear')"
      ]
     },
     "execution_count": 149,
     "metadata": {},
     "output_type": "execute_result"
    }
   ],
   "source": [
    "lm7 = LogisticRegression(solver='liblinear', C=10)\n",
    "lm7.fit(X_tr_smote, y_tr_smote)"
   ]
  },
  {
   "cell_type": "code",
   "execution_count": 191,
   "id": "ef70799d",
   "metadata": {},
   "outputs": [
    {
     "name": "stdout",
     "output_type": "stream",
     "text": [
      "Simple Logistic Regression Accuracy Score: 0.725\n",
      "Simple Logistic Regression Recall Score: 0.748\n",
      "Simple Logistic Regression Precision Score: 0.219\n",
      "Simple Logistic Regression F2 Score: 0.505\n",
      "Simple Logistic Regression Brier Score: 0.725\n"
     ]
    }
   ],
   "source": [
    "get_scores(lm7, X_val_sc, y_val)"
   ]
  },
  {
   "cell_type": "code",
   "execution_count": 151,
   "id": "c2526410",
   "metadata": {},
   "outputs": [
    {
     "data": {
      "image/png": "[encoded data removed]",
      "text/plain": [
       "<Figure size 432x288 with 2 Axes>"
      ]
     },
     "metadata": {
      "needs_background": "light"
     },
     "output_type": "display_data"
    }
   ],
   "source": [
    "make_cm(lm7, X_val_sc, y_val)"
   ]
  },
  {
   "cell_type": "code",
   "execution_count": 152,
   "id": "4fa5a610",
   "metadata": {},
   "outputs": [
    {
     "name": "stdout",
     "output_type": "stream",
     "text": [
      "No Skill: ROC AUC=0.500\n",
      "Logistic: ROC AUC=0.8\n"
     ]
    },
    {
     "data": {
      "image/png": "[encoded data removed]",
      "text/plain": [
       "<Figure size 432x288 with 1 Axes>"
      ]
     },
     "metadata": {
      "needs_background": "light"
     },
     "output_type": "display_data"
    }
   ],
   "source": [
    "get_roc(lm7, X_val_sc, y_val)"
   ]
  },
  {
   "cell_type": "code",
   "execution_count": 153,
   "id": "052fe2f7",
   "metadata": {},
   "outputs": [
    {
     "name": "stdout",
     "output_type": "stream",
     "text": [
      "Logistic: AUC=0.299\n"
     ]
    },
    {
     "data": {
      "image/png": "[encoded data removed]",
      "text/plain": [
       "<Figure size 432x288 with 1 Axes>"
      ]
     },
     "metadata": {
      "needs_background": "light"
     },
     "output_type": "display_data"
    }
   ],
   "source": [
    "get_prc(lm7, X_val_sc, y_val)"
   ]
  },
  {
   "cell_type": "code",
   "execution_count": 192,
   "id": "adab711c",
   "metadata": {},
   "outputs": [
    {
     "name": "stdout",
     "output_type": "stream",
     "text": [
      "Simple Logistic Regression Accuracy Score: 0.726\n",
      "Simple Logistic Regression Recall Score: 0.750\n",
      "Simple Logistic Regression Precision Score: 0.220\n",
      "Simple Logistic Regression F2 Score: 0.506\n",
      "Simple Logistic Regression Brier Score: 0.726\n"
     ]
    }
   ],
   "source": [
    "get_scores(lm7, X_test_sc, y_test)"
   ]
  },
  {
   "cell_type": "markdown",
   "id": "c61deeba",
   "metadata": {},
   "source": [
    "## Undersampling"
   ]
  },
  {
   "cell_type": "code",
   "execution_count": 141,
   "id": "4e3e1e05",
   "metadata": {},
   "outputs": [],
   "source": [
    "import imblearn.under_sampling"
   ]
  },
  {
   "cell_type": "code",
   "execution_count": 164,
   "id": "30cd55db",
   "metadata": {},
   "outputs": [],
   "source": [
    "RUS = imblearn.under_sampling.RandomUnderSampler(random_state=21)\n",
    "X_tr_us, y_tr_us = RUS.fit_resample(X_train_sc, y_train)"
   ]
  },
  {
   "cell_type": "code",
   "execution_count": 176,
   "id": "08432586",
   "metadata": {},
   "outputs": [
    {
     "data": {
      "text/plain": [
       "(28672, 38)"
      ]
     },
     "execution_count": 176,
     "metadata": {},
     "output_type": "execute_result"
    }
   ],
   "source": [
    "X_tr_us.shape"
   ]
  },
  {
   "cell_type": "code",
   "execution_count": 166,
   "id": "4e4f6b05",
   "metadata": {},
   "outputs": [
    {
     "data": {
      "text/plain": [
       "LogisticRegression(C=10, solver='liblinear')"
      ]
     },
     "execution_count": 166,
     "metadata": {},
     "output_type": "execute_result"
    }
   ],
   "source": [
    "lm8 = LogisticRegression(solver='liblinear', C=10)\n",
    "lm8.fit(X_tr_us, y_tr_us)"
   ]
  },
  {
   "cell_type": "code",
   "execution_count": 169,
   "id": "8b6950dd",
   "metadata": {},
   "outputs": [
    {
     "name": "stdout",
     "output_type": "stream",
     "text": [
      "Simple Logistic Regression Accuracy Score: 0.725\n",
      "Simple Logistic Regression Recall Score: 0.748\n",
      "Simple Logistic Regression Precision Score: 0.219\n",
      "Simple Logistic Regression F2 Score: 0.505\n",
      "Simple Logistic Regression Brier Score: 0.725\n"
     ]
    }
   ],
   "source": [
    "get_scores(lm8, X_val_sc, y_val)"
   ]
  },
  {
   "cell_type": "code",
   "execution_count": 170,
   "id": "ddb1187d",
   "metadata": {},
   "outputs": [
    {
     "name": "stdout",
     "output_type": "stream",
     "text": [
      "Simple Logistic Regression Accuracy Score: 0.725\n",
      "Simple Logistic Regression Recall Score: 0.755\n",
      "Simple Logistic Regression Precision Score: 0.220\n",
      "Simple Logistic Regression F2 Score: 0.508\n",
      "Simple Logistic Regression Brier Score: 0.725\n"
     ]
    }
   ],
   "source": [
    "get_scores(lm8, X_test_sc, y_test)"
   ]
  },
  {
   "cell_type": "code",
   "execution_count": 171,
   "id": "0f40b749",
   "metadata": {},
   "outputs": [
    {
     "data": {
      "image/png": "[encoded data removed]",
      "text/plain": [
       "<Figure size 432x288 with 2 Axes>"
      ]
     },
     "metadata": {
      "needs_background": "light"
     },
     "output_type": "display_data"
    }
   ],
   "source": [
    "make_cm(lm8, X_test_sc, y_test)"
   ]
  },
  {
   "cell_type": "markdown",
   "id": "de6c3682",
   "metadata": {},
   "source": [
    "## Random Forest"
   ]
  },
  {
   "cell_type": "code",
   "execution_count": 207,
   "id": "9096978d",
   "metadata": {},
   "outputs": [
    {
     "data": {
      "text/plain": [
       "RandomForestClassifier(max_features=3, n_jobs=-1)"
      ]
     },
     "execution_count": 207,
     "metadata": {},
     "output_type": "execute_result"
    }
   ],
   "source": [
    "from sklearn.ensemble import RandomForestClassifier\n",
    "rf = RandomForestClassifier(n_estimators = 100, max_features = 3, n_jobs=-1)\n",
    "rf.fit(X_train_sc, y_train)"
   ]
  },
  {
   "cell_type": "code",
   "execution_count": 208,
   "id": "a74526bf",
   "metadata": {},
   "outputs": [],
   "source": [
    "rf_pred = rf.predict(X_val_sc)"
   ]
  },
  {
   "cell_type": "code",
   "execution_count": 209,
   "id": "3bec1014",
   "metadata": {},
   "outputs": [
    {
     "data": {
      "text/plain": [
       "0.8899597918637654"
      ]
     },
     "execution_count": 209,
     "metadata": {},
     "output_type": "execute_result"
    }
   ],
   "source": [
    "accuracy_score(y_val, rf_pred)"
   ]
  },
  {
   "cell_type": "code",
   "execution_count": 210,
   "id": "9249d421",
   "metadata": {},
   "outputs": [
    {
     "data": {
      "image/png": "[encoded data removed]",
      "text/plain": [
       "<Figure size 432x288 with 2 Axes>"
      ]
     },
     "metadata": {
      "needs_background": "light"
     },
     "output_type": "display_data"
    }
   ],
   "source": [
    "make_cm(rf, X_val_sc, y_val)"
   ]
  },
  {
   "cell_type": "code",
   "execution_count": 212,
   "id": "29a07f8d",
   "metadata": {},
   "outputs": [
    {
     "name": "stdout",
     "output_type": "stream",
     "text": [
      "Simple Logistic Regression Accuracy Score: 0.890\n",
      "Simple Logistic Regression Recall Score: 0.115\n",
      "Simple Logistic Regression Precision Score: 0.288\n",
      "Simple Logistic Regression F2 Score: 0.131\n",
      "Simple Logistic Regression Brier Score: 0.890\n"
     ]
    }
   ],
   "source": [
    "model_acc = accuracy_score(y_val, rf_pred)\n",
    "model_recall = recall_score(y_val, rf_pred)\n",
    "model_precision = precision_score(y_val, rf_pred)\n",
    "model_f2 = fbeta_score(y_val, rf_pred, beta=2)\n",
    "model_brier = brier_score_loss(y_val, 1-rf_pred, pos_label=1)\n",
    "    \n",
    "    # report scores\n",
    "print('Simple Logistic Regression Accuracy Score: %.3f' % (model_acc))\n",
    "print('Simple Logistic Regression Recall Score: %.3f' % (model_recall))\n",
    "print('Simple Logistic Regression Precision Score: %.3f' % (model_precision))\n",
    "print('Simple Logistic Regression F2 Score: %.3f' % (model_f2))\n",
    "print('Simple Logistic Regression Brier Score: %.3f' % (model_brier))"
   ]
  },
  {
   "cell_type": "code",
   "execution_count": 213,
   "id": "2e7c6cb1",
   "metadata": {},
   "outputs": [
    {
     "data": {
      "text/plain": [
       "RandomForestClassifier(class_weight={0: 0.09, 1: 0.91}, max_features=3,\n",
       "                       n_jobs=-1)"
      ]
     },
     "execution_count": 213,
     "metadata": {},
     "output_type": "execute_result"
    }
   ],
   "source": [
    "rf_ros = RandomForestClassifier(n_estimators = 100, \n",
    "                             max_features = 3, \n",
    "                             n_jobs=-1, \n",
    "                             class_weight = {0: 0.09, 1: 0.91})\n",
    "rf_ros.fit(X_train_sc, y_train)"
   ]
  },
  {
   "cell_type": "code",
   "execution_count": 214,
   "id": "c8240a09",
   "metadata": {},
   "outputs": [],
   "source": [
    "rf_pred = rf_ros.predict(X_val_sc)"
   ]
  },
  {
   "cell_type": "code",
   "execution_count": 215,
   "id": "ae936e37",
   "metadata": {},
   "outputs": [
    {
     "name": "stdout",
     "output_type": "stream",
     "text": [
      "Simple Logistic Regression Accuracy Score: 0.851\n",
      "Simple Logistic Regression Recall Score: 0.184\n",
      "Simple Logistic Regression Precision Score: 0.194\n",
      "Simple Logistic Regression F2 Score: 0.186\n",
      "Simple Logistic Regression Brier Score: 0.851\n"
     ]
    }
   ],
   "source": [
    "model_acc = accuracy_score(y_val, rf_pred)\n",
    "model_recall = recall_score(y_val, rf_pred)\n",
    "model_precision = precision_score(y_val, rf_pred)\n",
    "model_f2 = fbeta_score(y_val, rf_pred, beta=2)\n",
    "model_brier = brier_score_loss(y_val, 1-rf_pred, pos_label=1)\n",
    "    \n",
    "    # report scores\n",
    "print('Simple Logistic Regression Accuracy Score: %.3f' % (model_acc))\n",
    "print('Simple Logistic Regression Recall Score: %.3f' % (model_recall))\n",
    "print('Simple Logistic Regression Precision Score: %.3f' % (model_precision))\n",
    "print('Simple Logistic Regression F2 Score: %.3f' % (model_f2))\n",
    "print('Simple Logistic Regression Brier Score: %.3f' % (model_brier))"
   ]
  },
  {
   "cell_type": "code",
   "execution_count": 216,
   "id": "1bc8c26d",
   "metadata": {},
   "outputs": [
    {
     "data": {
      "image/png": "[encoded data removed]",
      "text/plain": [
       "<Figure size 432x288 with 2 Axes>"
      ]
     },
     "metadata": {
      "needs_background": "light"
     },
     "output_type": "display_data"
    }
   ],
   "source": [
    "make_cm(rf_ros, X_val_sc, y_val)"
   ]
  }
 ],
 "metadata": {
  "kernelspec": {
   "display_name": "Python 3 (ipykernel)",
   "language": "python",
   "name": "python3"
  },
  "language_info": {
   "codemirror_mode": {
    "name": "ipython",
    "version": 3
   },
   "file_extension": ".py",
   "mimetype": "text/x-python",
   "name": "python",
   "nbconvert_exporter": "python",
   "pygments_lexer": "ipython3",
   "version": "3.8.8"
  }
 },
 "nbformat": 4,
 "nbformat_minor": 5
}
